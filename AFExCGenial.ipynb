{
 "cells": [
  {
   "cell_type": "markdown",
   "id": "b8f709a6",
   "metadata": {},
   "source": [
    "# <center> Présentation AFE x CGénial : L'apprentissage automatisé<center>"
   ]
  },
  {
   "cell_type": "markdown",
   "id": "988ee672",
   "metadata": {},
   "source": [
    "Bonjour ! Aujourd'hui, nous allons vous montrer comment faire du machine learning de façon simple avec la librairie AutoGluon. Dans cet exemple, nous allons estimer si la personne pourra acheter le produit proposé en publicité sur les réseaux sociaux.\n",
    "\n",
    "Il s'agit d'un apprentissage supervisé avec des données de type tabulaire."
   ]
  },
  {
   "cell_type": "markdown",
   "id": "638007a2",
   "metadata": {},
   "source": [
    "## 1 - Installation des librairies\n",
    "\n",
    "Une librairie est une bibliothèque d'outils qui permet à l'utilisateur d'étendre les fonctionnalités possibles à son code.\n",
    "\n",
    "Plus d'informations ici : https://docs.python.org/fr/3/library/index.html\n",
    "\n",
    "Les librairies ci-dessous sont nécessaires pour notre algorithme. Le point d'exclamation au début de la ligne de commande permet d'exécuter cette ligne de commande dans le terminal de l'ordinateur. \n",
    "<br>Nous allons tout d'abord les installer : "
   ]
  },
  {
   "cell_type": "code",
   "execution_count": null,
   "id": "c6b2e19e",
   "metadata": {},
   "outputs": [],
   "source": [
    "# Uninstall mkl for faster neural-network training time\n",
    "!pip uninstall -y mkl\n",
    "# Upgrade pip to ensure the latest package versions are available\n",
    "!pip install -U pip\n",
    "# Upgrade setuptools to be compatible with namespace packages\n",
    "!pip install -U setuptools\n",
    "!pip install -U \"mxnet<2.0.0\"\n",
    "# Install pre-release, frozen to a particual pre-release for stability\n",
    "!pip install autogluon\n",
    "!pip install -U ipykernel"
   ]
  },
  {
   "cell_type": "markdown",
   "id": "016677a5",
   "metadata": {},
   "source": [
    "## 2 - Importation des librairies"
   ]
  },
  {
   "cell_type": "markdown",
   "id": "d9b7f298",
   "metadata": {},
   "source": [
    "Il faut maintenant importer les librairies dans notre environnement. Voici la ligne de commande pour importer la librairie autogluon. <br>\n",
    "\n",
    "Ci dessous, vous pouvez trouver une explication de la fonctionnalité de chaque librairie : <br> \n",
    "\n",
    "**AutoGluon** nous permet d'utiliser de façon simple le machine learning : https://auto.gluon.ai/stable/index.html\n",
    "<br>**Sklearn** (Scikit-Learn) apporte des fonctionnalités pour analyser notre donnée : https://scikit-learn.org/stable/\n",
    "<br>**Matplotlib** est également un outil de visualisation de données : https://matplotlib.org/\n",
    "<br>**Seaborn** est un package pour la visualisation de nos données. Cette librairie est plus poussée que Matplotlib. : https://seaborn.pydata.org/\n",
    "<br>**Requests** est un package qui permet de lancer des requêtes HTTP : https://fr.python-requests.org/en/latest/"
   ]
  },
  {
   "cell_type": "code",
   "execution_count": 4,
   "id": "cb0f67d0",
   "metadata": {},
   "outputs": [],
   "source": [
    "from autogluon.tabular import TabularDataset, TabularPredictor\n",
    "from sklearn.model_selection import train_test_split\n",
    "import matplotlib.pyplot as plt\n",
    "import seaborn as sns\n",
    "import requests"
   ]
  },
  {
   "cell_type": "markdown",
   "id": "dc907915",
   "metadata": {
    "tags": []
   },
   "source": [
    "## 3 - Import de la donnée sur notre ordinateur\n",
    "\n",
    "Deux possibilités existent pour importer la donnée : Soit elle n'est pas au même endroit que le fichier où vous écrivez et il faut aller récupérer ce fichier via une requête sur Internet (ici Github). Sinon, il suffit de passer à l'étape 4.\n"
   ]
  },
  {
   "cell_type": "code",
   "execution_count": 8,
   "id": "1601e47a",
   "metadata": {},
   "outputs": [
    {
     "data": {
      "text/plain": [
       "10926"
      ]
     },
     "execution_count": 8,
     "metadata": {},
     "output_type": "execute_result"
    }
   ],
   "source": [
    "url = 'https://raw.githubusercontent.com/khallydi/AFExCGenial/main/Social_Network_Ads.csv'\n",
    "r = requests.get(url, allow_redirects=True)\n",
    "\n",
    "open('Social_Network_Ads.csv', 'wb').write(r.content)"
   ]
  },
  {
   "cell_type": "markdown",
   "id": "2bcf06a2",
   "metadata": {
    "tags": []
   },
   "source": [
    "## 4 - Import de la donnée dans mon notebook"
   ]
  },
  {
   "cell_type": "markdown",
   "id": "ece7eab9",
   "metadata": {},
   "source": [
    "Nous allons chercher le dataset sur notre ordinateur.\n",
    "<br>**data = TabularDataset('Social_Network_Ads.csv')**\n",
    "<br><br>"
   ]
  },
  {
   "cell_type": "code",
   "execution_count": 9,
   "id": "6b94c8cb",
   "metadata": {},
   "outputs": [],
   "source": [
    "data = TabularDataset('Social_Network_Ads.csv')"
   ]
  },
  {
   "cell_type": "markdown",
   "id": "66738e36",
   "metadata": {},
   "source": [
    "Affichons désormais une partie du dataset"
   ]
  },
  {
   "cell_type": "code",
   "execution_count": 10,
   "id": "9a77f02c",
   "metadata": {},
   "outputs": [
    {
     "data": {
      "text/html": [
       "<div>\n",
       "<style scoped>\n",
       "    .dataframe tbody tr th:only-of-type {\n",
       "        vertical-align: middle;\n",
       "    }\n",
       "\n",
       "    .dataframe tbody tr th {\n",
       "        vertical-align: top;\n",
       "    }\n",
       "\n",
       "    .dataframe thead th {\n",
       "        text-align: right;\n",
       "    }\n",
       "</style>\n",
       "<table border=\"1\" class=\"dataframe\">\n",
       "  <thead>\n",
       "    <tr style=\"text-align: right;\">\n",
       "      <th></th>\n",
       "      <th>User ID</th>\n",
       "      <th>Gender</th>\n",
       "      <th>Age</th>\n",
       "      <th>EstimatedSalary</th>\n",
       "      <th>Purchased</th>\n",
       "    </tr>\n",
       "  </thead>\n",
       "  <tbody>\n",
       "    <tr>\n",
       "      <th>0</th>\n",
       "      <td>15624510</td>\n",
       "      <td>Male</td>\n",
       "      <td>19</td>\n",
       "      <td>19000</td>\n",
       "      <td>0</td>\n",
       "    </tr>\n",
       "    <tr>\n",
       "      <th>1</th>\n",
       "      <td>15810944</td>\n",
       "      <td>Male</td>\n",
       "      <td>35</td>\n",
       "      <td>20000</td>\n",
       "      <td>0</td>\n",
       "    </tr>\n",
       "    <tr>\n",
       "      <th>2</th>\n",
       "      <td>15668575</td>\n",
       "      <td>Female</td>\n",
       "      <td>26</td>\n",
       "      <td>43000</td>\n",
       "      <td>0</td>\n",
       "    </tr>\n",
       "    <tr>\n",
       "      <th>3</th>\n",
       "      <td>15603246</td>\n",
       "      <td>Female</td>\n",
       "      <td>27</td>\n",
       "      <td>57000</td>\n",
       "      <td>0</td>\n",
       "    </tr>\n",
       "    <tr>\n",
       "      <th>4</th>\n",
       "      <td>15804002</td>\n",
       "      <td>Male</td>\n",
       "      <td>19</td>\n",
       "      <td>76000</td>\n",
       "      <td>0</td>\n",
       "    </tr>\n",
       "  </tbody>\n",
       "</table>\n",
       "</div>"
      ],
      "text/plain": [
       "    User ID  Gender  Age  EstimatedSalary  Purchased\n",
       "0  15624510    Male   19            19000          0\n",
       "1  15810944    Male   35            20000          0\n",
       "2  15668575  Female   26            43000          0\n",
       "3  15603246  Female   27            57000          0\n",
       "4  15804002    Male   19            76000          0"
      ]
     },
     "execution_count": 10,
     "metadata": {},
     "output_type": "execute_result"
    }
   ],
   "source": [
    "data.head()"
   ]
  },
  {
   "cell_type": "markdown",
   "id": "993b0b3d",
   "metadata": {},
   "source": [
    "Mon dataset contient 5 colonnes : l'ID de l'utilisateur, le genre de la personne, l'âge, le salaire et si la personne va acheter ou non."
   ]
  },
  {
   "cell_type": "markdown",
   "id": "afc19139",
   "metadata": {},
   "source": [
    " ## Analyse et visualisation de la donnée"
   ]
  },
  {
   "cell_type": "markdown",
   "id": "aab2af81",
   "metadata": {},
   "source": [
    "Pour comprendre que contiennent mes données, nous allons l'analyser. Nous allons tout d'abord regarder le type des colonnes de mon dataset : "
   ]
  },
  {
   "cell_type": "code",
   "execution_count": 11,
   "id": "35166b25",
   "metadata": {},
   "outputs": [
    {
     "data": {
      "text/plain": [
       "User ID             int64\n",
       "Gender             object\n",
       "Age                 int64\n",
       "EstimatedSalary     int64\n",
       "Purchased           int64\n",
       "dtype: object"
      ]
     },
     "execution_count": 11,
     "metadata": {},
     "output_type": "execute_result"
    }
   ],
   "source": [
    "data.dtypes"
   ]
  },
  {
   "cell_type": "markdown",
   "id": "92aca58d",
   "metadata": {},
   "source": [
    "A droite, vous pourrez retrouver le structure de chaque colonne. Le type int64 est un nombre sur 8 octets de (-9,223,372,036,854,775,808 à +9,223,372,036,854,775,807).\n",
    "<br>Le type object est peut être assigné à tout type de variable (nombre, chiffre, lettres...)"
   ]
  },
  {
   "cell_type": "markdown",
   "id": "8b38b56d",
   "metadata": {},
   "source": [
    "### a) Valeurs non nulles"
   ]
  },
  {
   "cell_type": "code",
   "execution_count": 12,
   "id": "916b6ce5",
   "metadata": {},
   "outputs": [
    {
     "data": {
      "text/plain": [
       "User ID            0\n",
       "Gender             0\n",
       "Age                0\n",
       "EstimatedSalary    0\n",
       "Purchased          0\n",
       "dtype: int64"
      ]
     },
     "execution_count": 12,
     "metadata": {},
     "output_type": "execute_result"
    }
   ],
   "source": [
    "data.isnull().sum()"
   ]
  },
  {
   "cell_type": "markdown",
   "id": "c5f096f3",
   "metadata": {},
   "source": [
    "Aucune valeur nulle. Nous pouvons continuer."
   ]
  },
  {
   "cell_type": "markdown",
   "id": "72fc238a",
   "metadata": {},
   "source": [
    "### b) Types des données"
   ]
  },
  {
   "cell_type": "markdown",
   "id": "2d1316c2",
   "metadata": {},
   "source": [
    "Notre variable Purchased est de type int64 alors que nous souhaitons un booléen (https://fr.wikipedia.org/wiki/Bool%C3%A9en). Faisons les modifications de variables dans le tableau et vérifions ensuite : "
   ]
  },
  {
   "cell_type": "code",
   "execution_count": 13,
   "id": "851bdbbd",
   "metadata": {},
   "outputs": [
    {
     "data": {
      "text/plain": [
       "User ID             int64\n",
       "Gender             object\n",
       "Age                 int64\n",
       "EstimatedSalary     int64\n",
       "Purchased            bool\n",
       "dtype: object"
      ]
     },
     "execution_count": 13,
     "metadata": {},
     "output_type": "execute_result"
    }
   ],
   "source": [
    "data.Purchased = data.Purchased.astype('bool') #Changement de type\n",
    "data.dtypes #Vérification"
   ]
  },
  {
   "cell_type": "markdown",
   "id": "ac81396c",
   "metadata": {},
   "source": [
    "### c) Analyse des données de manière générale"
   ]
  },
  {
   "cell_type": "markdown",
   "id": "6cda0a7d",
   "metadata": {},
   "source": [
    "Allons plus en profondeur dans l'analyse des données : "
   ]
  },
  {
   "cell_type": "code",
   "execution_count": 14,
   "id": "12cabc03",
   "metadata": {},
   "outputs": [
    {
     "data": {
      "text/html": [
       "<div>\n",
       "<style scoped>\n",
       "    .dataframe tbody tr th:only-of-type {\n",
       "        vertical-align: middle;\n",
       "    }\n",
       "\n",
       "    .dataframe tbody tr th {\n",
       "        vertical-align: top;\n",
       "    }\n",
       "\n",
       "    .dataframe thead th {\n",
       "        text-align: right;\n",
       "    }\n",
       "</style>\n",
       "<table border=\"1\" class=\"dataframe\">\n",
       "  <thead>\n",
       "    <tr style=\"text-align: right;\">\n",
       "      <th></th>\n",
       "      <th>User ID</th>\n",
       "      <th>Age</th>\n",
       "      <th>EstimatedSalary</th>\n",
       "    </tr>\n",
       "  </thead>\n",
       "  <tbody>\n",
       "    <tr>\n",
       "      <th>count</th>\n",
       "      <td>4.000000e+02</td>\n",
       "      <td>400.000000</td>\n",
       "      <td>400.000000</td>\n",
       "    </tr>\n",
       "    <tr>\n",
       "      <th>mean</th>\n",
       "      <td>1.569154e+07</td>\n",
       "      <td>37.655000</td>\n",
       "      <td>69742.500000</td>\n",
       "    </tr>\n",
       "    <tr>\n",
       "      <th>std</th>\n",
       "      <td>7.165832e+04</td>\n",
       "      <td>10.482877</td>\n",
       "      <td>34096.960282</td>\n",
       "    </tr>\n",
       "    <tr>\n",
       "      <th>min</th>\n",
       "      <td>1.556669e+07</td>\n",
       "      <td>18.000000</td>\n",
       "      <td>15000.000000</td>\n",
       "    </tr>\n",
       "    <tr>\n",
       "      <th>25%</th>\n",
       "      <td>1.562676e+07</td>\n",
       "      <td>29.750000</td>\n",
       "      <td>43000.000000</td>\n",
       "    </tr>\n",
       "    <tr>\n",
       "      <th>50%</th>\n",
       "      <td>1.569434e+07</td>\n",
       "      <td>37.000000</td>\n",
       "      <td>70000.000000</td>\n",
       "    </tr>\n",
       "    <tr>\n",
       "      <th>75%</th>\n",
       "      <td>1.575036e+07</td>\n",
       "      <td>46.000000</td>\n",
       "      <td>88000.000000</td>\n",
       "    </tr>\n",
       "    <tr>\n",
       "      <th>max</th>\n",
       "      <td>1.581524e+07</td>\n",
       "      <td>60.000000</td>\n",
       "      <td>150000.000000</td>\n",
       "    </tr>\n",
       "  </tbody>\n",
       "</table>\n",
       "</div>"
      ],
      "text/plain": [
       "            User ID         Age  EstimatedSalary\n",
       "count  4.000000e+02  400.000000       400.000000\n",
       "mean   1.569154e+07   37.655000     69742.500000\n",
       "std    7.165832e+04   10.482877     34096.960282\n",
       "min    1.556669e+07   18.000000     15000.000000\n",
       "25%    1.562676e+07   29.750000     43000.000000\n",
       "50%    1.569434e+07   37.000000     70000.000000\n",
       "75%    1.575036e+07   46.000000     88000.000000\n",
       "max    1.581524e+07   60.000000    150000.000000"
      ]
     },
     "execution_count": 14,
     "metadata": {},
     "output_type": "execute_result"
    }
   ],
   "source": [
    "data.describe()"
   ]
  },
  {
   "cell_type": "markdown",
   "id": "3a30da02",
   "metadata": {},
   "source": [
    "Nous pouvons retrouver que l'âge moyen est de 37.65 soit 38 ans et que le salaire moyen est de 69742.5 dollars."
   ]
  },
  {
   "cell_type": "markdown",
   "id": "730635aa",
   "metadata": {},
   "source": [
    "Faisons le de manière graphique pour chaque colonne : "
   ]
  },
  {
   "cell_type": "markdown",
   "id": "0c4cfc0d",
   "metadata": {},
   "source": [
    "### d) La répartition des âges "
   ]
  },
  {
   "cell_type": "code",
   "execution_count": 15,
   "id": "39dddffa",
   "metadata": {},
   "outputs": [
    {
     "data": {
      "text/plain": [
       "<AxesSubplot:xlabel='Age', ylabel='Count'>"
      ]
     },
     "execution_count": 15,
     "metadata": {},
     "output_type": "execute_result"
    },
    {
     "data": {
      "image/png": "[encoded data removed]",
      "text/plain": [
       "<Figure size 432x288 with 1 Axes>"
      ]
     },
     "metadata": {
      "needs_background": "light"
     },
     "output_type": "display_data"
    }
   ],
   "source": [
    "sns.histplot(data['Age'],kde=True,color='purple',bins=30)"
   ]
  },
  {
   "cell_type": "markdown",
   "id": "4148cac7",
   "metadata": {},
   "source": [
    "L'âge des personnes est assez hétérogène."
   ]
  },
  {
   "cell_type": "markdown",
   "id": "7615701b",
   "metadata": {},
   "source": [
    "### e) La répartition des salaires "
   ]
  },
  {
   "cell_type": "code",
   "execution_count": 16,
   "id": "28a05637",
   "metadata": {},
   "outputs": [
    {
     "data": {
      "text/plain": [
       "<AxesSubplot:xlabel='EstimatedSalary', ylabel='Count'>"
      ]
     },
     "execution_count": 16,
     "metadata": {},
     "output_type": "execute_result"
    },
    {
     "data": {
      "image/png": "[encoded data removed]",
      "text/plain": [
       "<Figure size 432x288 with 1 Axes>"
      ]
     },
     "metadata": {
      "needs_background": "light"
     },
     "output_type": "display_data"
    }
   ],
   "source": [
    "sns.histplot(data['EstimatedSalary'],kde=True,color='green',bins=30)"
   ]
  },
  {
   "cell_type": "markdown",
   "id": "25f8ced1",
   "metadata": {},
   "source": [
    "La plupart des salaires sont inférieurs à 80000$."
   ]
  },
  {
   "cell_type": "markdown",
   "id": "7eb64fc6",
   "metadata": {},
   "source": [
    "### f) La proportion d'hommes et de femmes"
   ]
  },
  {
   "cell_type": "code",
   "execution_count": 17,
   "id": "cf4937c5",
   "metadata": {},
   "outputs": [
    {
     "data": {
      "image/png": "[encoded data removed]",
      "text/plain": [
       "<Figure size 720x504 with 1 Axes>"
      ]
     },
     "metadata": {
      "needs_background": "light"
     },
     "output_type": "display_data"
    }
   ],
   "source": [
    "plt.figure(figsize=(10, 7))\n",
    "sns.countplot(x = \"Gender\",data=data, palette=\"Dark2\")\n",
    "plt.show()"
   ]
  },
  {
   "cell_type": "markdown",
   "id": "a9314044",
   "metadata": {},
   "source": [
    "Le dataset est constitué de presque autant de femmes et d'hommes."
   ]
  },
  {
   "cell_type": "markdown",
   "id": "ed034289",
   "metadata": {},
   "source": [
    "### g) La répartition des achats ou non (Colonne \"Purchased\")"
   ]
  },
  {
   "cell_type": "code",
   "execution_count": 18,
   "id": "2512b3e8",
   "metadata": {},
   "outputs": [
    {
     "data": {
      "image/png": "[encoded data removed]",
      "text/plain": [
       "<Figure size 720x504 with 1 Axes>"
      ]
     },
     "metadata": {
      "needs_background": "light"
     },
     "output_type": "display_data"
    }
   ],
   "source": [
    "plt.figure(figsize=(10,7))\n",
    "sns.countplot(x = \"Purchased\",data=data, palette=\"Dark2\")\n",
    "plt.show()"
   ]
  },
  {
   "cell_type": "markdown",
   "id": "47f52d18",
   "metadata": {},
   "source": [
    "Dans nos données, nous avons une représentation plus importante de personnes qui n'ont pas achetés le produit en publicité."
   ]
  },
  {
   "cell_type": "markdown",
   "id": "2621a071",
   "metadata": {},
   "source": [
    "### h) Bonus : La répartition des personnes qui ont achetés ou non selon leur genre"
   ]
  },
  {
   "cell_type": "code",
   "execution_count": 19,
   "id": "28e53948",
   "metadata": {},
   "outputs": [
    {
     "data": {
      "text/plain": [
       "<Figure size 720x216 with 0 Axes>"
      ]
     },
     "metadata": {},
     "output_type": "display_data"
    },
    {
     "data": {
      "image/png": "[encoded data removed]",
      "text/plain": [
       "<Figure size 720x360 with 2 Axes>"
      ]
     },
     "metadata": {
      "needs_background": "light"
     },
     "output_type": "display_data"
    }
   ],
   "source": [
    "plt.figure(figsize=(10, 3))\n",
    "sns.catplot(x='Purchased', col='Gender', kind='count', data=data,palette=\"Dark2\");\n",
    "plt.show()"
   ]
  },
  {
   "cell_type": "markdown",
   "id": "dcde69f1",
   "metadata": {},
   "source": [
    "Le genre de la personne n'a pas l'air d'influencer l'achat du produit."
   ]
  },
  {
   "cell_type": "markdown",
   "id": "328a7b1b",
   "metadata": {},
   "source": [
    "## 5 - Création des ensembles de données d'entraînement et de test"
   ]
  },
  {
   "cell_type": "markdown",
   "id": "117fe393",
   "metadata": {},
   "source": [
    "Maintenant que j'ai compris ce que contenait mes données, je vais commencer le travail préparatoire.\n",
    "Pour le modèle d'apprentissage automatisé, il faut avoit deux datasets (ensemble de données). Un pour entrainer le modèle et un pour tester le modèle. Généralement, nous prenons 80% de la donnée pour l'entrainement et 20% de la donnée pour le test.\n",
    "\n",
    "\n",
    "Nous allons séparer les données en deux ensembles de données :\n",
    "<br> **entrainement, test = train_test_split(data,test_size = 0.20,random_state=56)** \n",
    "<br><br>\n",
    "Nous allons voir la taille du dataset et voir si le dataset principal a bien été séparé : \n",
    "<br><br>**print(\"La taille de mon dataset total : \",data.size)**\n",
    "<br><br>**print(\"La taille de mon dataset d'entraînement : \", entrainement.size)**\n",
    "<br><br>**print(\"La taille de mon dataset de test : \", test.size)**\n",
    "\n"
   ]
  },
  {
   "cell_type": "code",
   "execution_count": 20,
   "id": "9dbc0033",
   "metadata": {},
   "outputs": [],
   "source": [
    "entrainement, test = train_test_split(data,test_size = 0.20,random_state=56)"
   ]
  },
  {
   "cell_type": "code",
   "execution_count": 21,
   "id": "5cf4b698",
   "metadata": {},
   "outputs": [
    {
     "name": "stdout",
     "output_type": "stream",
     "text": [
      "La taille de mon dataset total :  2000\n",
      "La taille de mon dataset d'entraînement :  1600\n",
      "La taille de mon dataset de test :  400\n"
     ]
    }
   ],
   "source": [
    "print(\"La taille de mon dataset total : \",data.size)\n",
    "print(\"La taille de mon dataset d'entraînement : \", entrainement.size)\n",
    "print(\"La taille de mon dataset de test : \", test.size)"
   ]
  },
  {
   "cell_type": "markdown",
   "id": "ccfaac94",
   "metadata": {},
   "source": [
    "## 6 - Lancement de l'algorithme"
   ]
  },
  {
   "cell_type": "markdown",
   "id": "75530c7b",
   "metadata": {},
   "source": [
    "Nous allons tout d'abord spécifier la colonne target, ce que nous cherchons à estimer. Dans notre cas, il s'agit de la colonne \"Purchased\"."
   ]
  },
  {
   "cell_type": "code",
   "execution_count": 22,
   "id": "d0612498",
   "metadata": {},
   "outputs": [
    {
     "name": "stdout",
     "output_type": "stream",
     "text": [
      "Summary of class variable: \n",
      " count       320\n",
      "unique        2\n",
      "top       False\n",
      "freq        205\n",
      "Name: Purchased, dtype: object\n"
     ]
    }
   ],
   "source": [
    "label = 'Purchased'\n",
    "print(\"Summary of class variable: \\n\", entrainement[label].describe())"
   ]
  },
  {
   "cell_type": "markdown",
   "id": "1bae4a82",
   "metadata": {},
   "source": [
    "Nous allons pouvoir entrainer notre modèle et le sauvegarder dans un dossier à spécifier : "
   ]
  },
  {
   "cell_type": "code",
   "execution_count": 116,
   "id": "8e451740",
   "metadata": {},
   "outputs": [
    {
     "name": "stderr",
     "output_type": "stream",
     "text": [
      "Warning: path already exists! This predictor may overwrite an existing predictor! path=\"agModels-predictClass\"\n",
      "Beginning AutoGluon training ...\n",
      "AutoGluon will save models to \"agModels-predictClass/\"\n",
      "AutoGluon Version:  0.3.1\n",
      "Train Data Rows:    320\n",
      "Train Data Columns: 4\n",
      "Preprocessing data ...\n",
      "AutoGluon infers your prediction problem is: 'binary' (because only two unique label-values observed).\n",
      "\t2 unique label values:  [False, True]\n",
      "\tIf 'binary' is not the correct problem_type, please manually specify the problem_type argument in fit() (You may specify problem_type as one of: ['binary', 'multiclass', 'regression'])\n",
      "Selected class <--> label mapping:  class 1 = True, class 0 = False\n",
      "Using Feature Generators to preprocess the data ...\n",
      "Fitting AutoMLPipelineFeatureGenerator...\n",
      "\tAvailable Memory:                    2722.39 MB\n",
      "\tTrain Data (Original)  Memory Usage: 0.04 MB (0.0% of available memory)\n",
      "\tInferring data type of each feature based on column values. Set feature_metadata_in to manually specify special dtypes of the features.\n",
      "\tStage 1 Generators:\n",
      "\t\tFitting AsTypeFeatureGenerator...\n",
      "\t\t\tNote: Converting 1 features to boolean dtype as they only contain 2 unique values.\n",
      "\tStage 2 Generators:\n",
      "\t\tFitting FillNaFeatureGenerator...\n",
      "\tStage 3 Generators:\n",
      "\t\tFitting IdentityFeatureGenerator...\n",
      "\tStage 4 Generators:\n",
      "\t\tFitting DropUniqueFeatureGenerator...\n",
      "\tTypes of features in original data (raw dtype, special dtypes):\n",
      "\t\t('int', [])    : 3 | ['User ID', 'Age', 'EstimatedSalary']\n",
      "\t\t('object', []) : 1 | ['Gender']\n",
      "\tTypes of features in processed data (raw dtype, special dtypes):\n",
      "\t\t('int', [])       : 3 | ['User ID', 'Age', 'EstimatedSalary']\n",
      "\t\t('int', ['bool']) : 1 | ['Gender']\n",
      "\t0.1s = Fit runtime\n",
      "\t4 features in original data used to generate 4 features in processed data.\n",
      "\tTrain Data (Processed) Memory Usage: 0.01 MB (0.0% of available memory)\n",
      "Data preprocessing and feature engineering runtime = 0.08s ...\n",
      "AutoGluon will gauge predictive performance using evaluation metric: 'accuracy'\n",
      "\tTo change this, specify the eval_metric argument of fit()\n",
      "Automatically generating train/validation split with holdout_frac=0.2, Train Rows: 256, Val Rows: 64\n",
      "Fitting 13 L1 models ...\n",
      "Fitting model: KNeighborsUnif ...\n",
      "\t0.6875\t = Validation score   (accuracy)\n",
      "\t0.01s\t = Training   runtime\n",
      "\t0.1s\t = Validation runtime\n",
      "Fitting model: KNeighborsDist ...\n",
      "\t0.7031\t = Validation score   (accuracy)\n",
      "\t0.01s\t = Training   runtime\n",
      "\t0.1s\t = Validation runtime\n",
      "Fitting model: LightGBMXT ...\n",
      "/home/ec2-user/anaconda3/envs/tensorflow_p36/lib/python3.6/site-packages/lightgbm/engine.py:239: UserWarning: 'verbose_eval' argument is deprecated and will be removed in a future release of LightGBM. Pass 'log_evaluation()' callback via 'callbacks' argument instead.\n",
      "  _log_warning(\"'verbose_eval' argument is deprecated and will be removed in a future release of LightGBM. \"\n",
      "\t0.8906\t = Validation score   (accuracy)\n",
      "\t0.98s\t = Training   runtime\n",
      "\t0.0s\t = Validation runtime\n",
      "Fitting model: LightGBM ...\n",
      "/home/ec2-user/anaconda3/envs/tensorflow_p36/lib/python3.6/site-packages/lightgbm/engine.py:239: UserWarning: 'verbose_eval' argument is deprecated and will be removed in a future release of LightGBM. Pass 'log_evaluation()' callback via 'callbacks' argument instead.\n",
      "  _log_warning(\"'verbose_eval' argument is deprecated and will be removed in a future release of LightGBM. \"\n",
      "\t0.9219\t = Validation score   (accuracy)\n",
      "\t0.87s\t = Training   runtime\n",
      "\t0.0s\t = Validation runtime\n",
      "Fitting model: RandomForestGini ...\n",
      "\t0.8906\t = Validation score   (accuracy)\n",
      "\t0.65s\t = Training   runtime\n",
      "\t0.1s\t = Validation runtime\n",
      "Fitting model: RandomForestEntr ...\n",
      "\t0.8906\t = Validation score   (accuracy)\n",
      "\t0.64s\t = Training   runtime\n",
      "\t0.1s\t = Validation runtime\n",
      "Fitting model: CatBoost ...\n",
      "\t0.9062\t = Validation score   (accuracy)\n",
      "\t0.17s\t = Training   runtime\n",
      "\t0.0s\t = Validation runtime\n",
      "Fitting model: ExtraTreesGini ...\n",
      "\t0.9219\t = Validation score   (accuracy)\n",
      "\t0.65s\t = Training   runtime\n",
      "\t0.1s\t = Validation runtime\n",
      "Fitting model: ExtraTreesEntr ...\n",
      "\t0.9219\t = Validation score   (accuracy)\n",
      "\t0.64s\t = Training   runtime\n",
      "\t0.1s\t = Validation runtime\n",
      "Fitting model: NeuralNetFastAI ...\n",
      "No improvement since epoch 2: early stopping\n",
      "\t0.9219\t = Validation score   (accuracy)\n",
      "\t2.06s\t = Training   runtime\n",
      "\t0.02s\t = Validation runtime\n",
      "Fitting model: XGBoost ...\n",
      "\t0.9062\t = Validation score   (accuracy)\n",
      "\t0.1s\t = Training   runtime\n",
      "\t0.0s\t = Validation runtime\n",
      "Fitting model: NeuralNetMXNet ...\n",
      "\t0.8438\t = Validation score   (accuracy)\n",
      "\t2.62s\t = Training   runtime\n",
      "\t0.81s\t = Validation runtime\n",
      "Fitting model: LightGBMLarge ...\n",
      "/home/ec2-user/anaconda3/envs/tensorflow_p36/lib/python3.6/site-packages/lightgbm/engine.py:239: UserWarning: 'verbose_eval' argument is deprecated and will be removed in a future release of LightGBM. Pass 'log_evaluation()' callback via 'callbacks' argument instead.\n",
      "  _log_warning(\"'verbose_eval' argument is deprecated and will be removed in a future release of LightGBM. \"\n",
      "\t0.8906\t = Validation score   (accuracy)\n",
      "\t0.89s\t = Training   runtime\n",
      "\t0.0s\t = Validation runtime\n",
      "Fitting model: WeightedEnsemble_L2 ...\n",
      "\t0.9219\t = Validation score   (accuracy)\n",
      "\t0.45s\t = Training   runtime\n",
      "\t0.0s\t = Validation runtime\n",
      "AutoGluon training complete, total runtime = 14.05s ...\n",
      "TabularPredictor saved. To load, use: predictor = TabularPredictor.load(\"agModels-predictClass/\")\n"
     ]
    }
   ],
   "source": [
    "save_path = 'agModels-predictClass'  # Spécifier un dossier pour créer le modèle de machine learning\n",
    "predictor = TabularPredictor(label=label, path=save_path).fit(entrainement)"
   ]
  },
  {
   "cell_type": "markdown",
   "id": "7ad21bb2",
   "metadata": {},
   "source": [
    "## 7 - Testons notre algorithme d'apprentissage supervisé"
   ]
  },
  {
   "cell_type": "markdown",
   "id": "1da79b34",
   "metadata": {},
   "source": [
    "Nous allons maintenant tester notre algorithme et mettre la valeur à prédire de côté. Nous allons créer un autre ensemble de données en enlevant cette valeur."
   ]
  },
  {
   "cell_type": "code",
   "execution_count": 117,
   "id": "27eb700e",
   "metadata": {},
   "outputs": [
    {
     "data": {
      "text/html": [
       "<div>\n",
       "<style scoped>\n",
       "    .dataframe tbody tr th:only-of-type {\n",
       "        vertical-align: middle;\n",
       "    }\n",
       "\n",
       "    .dataframe tbody tr th {\n",
       "        vertical-align: top;\n",
       "    }\n",
       "\n",
       "    .dataframe thead th {\n",
       "        text-align: right;\n",
       "    }\n",
       "</style>\n",
       "<table border=\"1\" class=\"dataframe\">\n",
       "  <thead>\n",
       "    <tr style=\"text-align: right;\">\n",
       "      <th></th>\n",
       "      <th>User ID</th>\n",
       "      <th>Gender</th>\n",
       "      <th>Age</th>\n",
       "      <th>EstimatedSalary</th>\n",
       "    </tr>\n",
       "  </thead>\n",
       "  <tbody>\n",
       "    <tr>\n",
       "      <th>79</th>\n",
       "      <td>15655123</td>\n",
       "      <td>Female</td>\n",
       "      <td>26</td>\n",
       "      <td>17000</td>\n",
       "    </tr>\n",
       "    <tr>\n",
       "      <th>112</th>\n",
       "      <td>15619653</td>\n",
       "      <td>Male</td>\n",
       "      <td>38</td>\n",
       "      <td>61000</td>\n",
       "    </tr>\n",
       "    <tr>\n",
       "      <th>164</th>\n",
       "      <td>15697574</td>\n",
       "      <td>Female</td>\n",
       "      <td>33</td>\n",
       "      <td>69000</td>\n",
       "    </tr>\n",
       "    <tr>\n",
       "      <th>185</th>\n",
       "      <td>15814816</td>\n",
       "      <td>Male</td>\n",
       "      <td>31</td>\n",
       "      <td>66000</td>\n",
       "    </tr>\n",
       "    <tr>\n",
       "      <th>180</th>\n",
       "      <td>15685576</td>\n",
       "      <td>Male</td>\n",
       "      <td>26</td>\n",
       "      <td>16000</td>\n",
       "    </tr>\n",
       "  </tbody>\n",
       "</table>\n",
       "</div>"
      ],
      "text/plain": [
       "      User ID  Gender  Age  EstimatedSalary\n",
       "79   15655123  Female   26            17000\n",
       "112  15619653    Male   38            61000\n",
       "164  15697574  Female   33            69000\n",
       "185  15814816    Male   31            66000\n",
       "180  15685576    Male   26            16000"
      ]
     },
     "execution_count": 117,
     "metadata": {},
     "output_type": "execute_result"
    }
   ],
   "source": [
    "y_test = test[label]  #Mettons la valeur à prédire de côté\n",
    "test_data_nolab = test.drop(columns=[label]) #drop = enlever\n",
    "test_data_nolab.head()"
   ]
  },
  {
   "cell_type": "markdown",
   "id": "9a7d194d",
   "metadata": {},
   "source": [
    "Nous avons désormais 4 colonnes puisque nous avons enlevé la colonne \"Purchased\". Demandons maintenant au modèle d'apprentissage automatisé de nous prédire si les personnes vont achetés au non le produit de la publicité."
   ]
  },
  {
   "cell_type": "code",
   "execution_count": 118,
   "id": "1a604310",
   "metadata": {},
   "outputs": [],
   "source": [
    "predictor = TabularPredictor.load(save_path)  # unnecessary, just demonstrates how to load previously-trained predictor from file\n",
    "\n",
    "y_pred = predictor.predict(test_data_nolab)"
   ]
  },
  {
   "cell_type": "markdown",
   "id": "d40e70fa",
   "metadata": {},
   "source": [
    "Regardons plus en détail les prédictions et comparons avec les vrais résultats :"
   ]
  },
  {
   "cell_type": "code",
   "execution_count": 119,
   "id": "3cd60bbc",
   "metadata": {},
   "outputs": [
    {
     "name": "stderr",
     "output_type": "stream",
     "text": [
      "Evaluation: accuracy on test data: 0.9\n",
      "Evaluations on test data:\n",
      "{\n",
      "    \"accuracy\": 0.9,\n",
      "    \"balanced_accuracy\": 0.8901098901098901,\n",
      "    \"mcc\": 0.7802197802197802,\n",
      "    \"f1\": 0.8571428571428571,\n",
      "    \"precision\": 0.8571428571428571,\n",
      "    \"recall\": 0.8571428571428571\n",
      "}\n"
     ]
    },
    {
     "name": "stdout",
     "output_type": "stream",
     "text": [
      "Predictions:  \n",
      " 79     False\n",
      "112    False\n",
      "164    False\n",
      "185    False\n",
      "180    False\n",
      "       ...  \n",
      "71     False\n",
      "130    False\n",
      "243     True\n",
      "127    False\n",
      "44     False\n",
      "Name: Purchased, Length: 80, dtype: bool\n"
     ]
    }
   ],
   "source": [
    "print(\"Predictions:  \\n\", y_pred)\n",
    "perf = predictor.evaluate_predictions(y_true=y_test, y_pred=y_pred, auxiliary_metrics=True)"
   ]
  },
  {
   "cell_type": "markdown",
   "id": "44be2cf0",
   "metadata": {},
   "source": [
    "Notre modèle a une précision de 90% (ce qui est très bien pour un modèle). "
   ]
  },
  {
   "cell_type": "markdown",
   "id": "c6559756",
   "metadata": {},
   "source": [
    "### Quel algorithme a été le plus performant ?"
   ]
  },
  {
   "cell_type": "markdown",
   "id": "51e48375",
   "metadata": {},
   "source": [
    "Autogluon nous a permis de lancer plein d'algorithmes. Nous allons pouvoir voir quelques statistiques tel que la performanc,e le temps d'entraînement..."
   ]
  },
  {
   "cell_type": "code",
   "execution_count": 120,
   "id": "6db81a30",
   "metadata": {},
   "outputs": [
    {
     "data": {
      "text/html": [
       "<div>\n",
       "<style scoped>\n",
       "    .dataframe tbody tr th:only-of-type {\n",
       "        vertical-align: middle;\n",
       "    }\n",
       "\n",
       "    .dataframe tbody tr th {\n",
       "        vertical-align: top;\n",
       "    }\n",
       "\n",
       "    .dataframe thead th {\n",
       "        text-align: right;\n",
       "    }\n",
       "</style>\n",
       "<table border=\"1\" class=\"dataframe\">\n",
       "  <thead>\n",
       "    <tr style=\"text-align: right;\">\n",
       "      <th></th>\n",
       "      <th>model</th>\n",
       "      <th>score_test</th>\n",
       "      <th>score_val</th>\n",
       "      <th>pred_time_test</th>\n",
       "      <th>pred_time_val</th>\n",
       "      <th>fit_time</th>\n",
       "      <th>pred_time_test_marginal</th>\n",
       "      <th>pred_time_val_marginal</th>\n",
       "      <th>fit_time_marginal</th>\n",
       "      <th>stack_level</th>\n",
       "      <th>can_infer</th>\n",
       "      <th>fit_order</th>\n",
       "    </tr>\n",
       "  </thead>\n",
       "  <tbody>\n",
       "    <tr>\n",
       "      <th>0</th>\n",
       "      <td>CatBoost</td>\n",
       "      <td>0.9125</td>\n",
       "      <td>0.906250</td>\n",
       "      <td>0.001770</td>\n",
       "      <td>0.002185</td>\n",
       "      <td>0.173704</td>\n",
       "      <td>0.001770</td>\n",
       "      <td>0.002185</td>\n",
       "      <td>0.173704</td>\n",
       "      <td>1</td>\n",
       "      <td>True</td>\n",
       "      <td>7</td>\n",
       "    </tr>\n",
       "    <tr>\n",
       "      <th>1</th>\n",
       "      <td>LightGBMXT</td>\n",
       "      <td>0.9125</td>\n",
       "      <td>0.890625</td>\n",
       "      <td>0.003943</td>\n",
       "      <td>0.003195</td>\n",
       "      <td>0.977609</td>\n",
       "      <td>0.003943</td>\n",
       "      <td>0.003195</td>\n",
       "      <td>0.977609</td>\n",
       "      <td>1</td>\n",
       "      <td>True</td>\n",
       "      <td>3</td>\n",
       "    </tr>\n",
       "    <tr>\n",
       "      <th>2</th>\n",
       "      <td>RandomForestEntr</td>\n",
       "      <td>0.9125</td>\n",
       "      <td>0.890625</td>\n",
       "      <td>0.113842</td>\n",
       "      <td>0.103072</td>\n",
       "      <td>0.643974</td>\n",
       "      <td>0.113842</td>\n",
       "      <td>0.103072</td>\n",
       "      <td>0.643974</td>\n",
       "      <td>1</td>\n",
       "      <td>True</td>\n",
       "      <td>6</td>\n",
       "    </tr>\n",
       "    <tr>\n",
       "      <th>3</th>\n",
       "      <td>ExtraTreesEntr</td>\n",
       "      <td>0.9125</td>\n",
       "      <td>0.921875</td>\n",
       "      <td>0.114547</td>\n",
       "      <td>0.102945</td>\n",
       "      <td>0.644232</td>\n",
       "      <td>0.114547</td>\n",
       "      <td>0.102945</td>\n",
       "      <td>0.644232</td>\n",
       "      <td>1</td>\n",
       "      <td>True</td>\n",
       "      <td>9</td>\n",
       "    </tr>\n",
       "    <tr>\n",
       "      <th>4</th>\n",
       "      <td>RandomForestGini</td>\n",
       "      <td>0.9125</td>\n",
       "      <td>0.890625</td>\n",
       "      <td>0.114747</td>\n",
       "      <td>0.102951</td>\n",
       "      <td>0.645381</td>\n",
       "      <td>0.114747</td>\n",
       "      <td>0.102951</td>\n",
       "      <td>0.645381</td>\n",
       "      <td>1</td>\n",
       "      <td>True</td>\n",
       "      <td>5</td>\n",
       "    </tr>\n",
       "    <tr>\n",
       "      <th>5</th>\n",
       "      <td>ExtraTreesGini</td>\n",
       "      <td>0.9125</td>\n",
       "      <td>0.921875</td>\n",
       "      <td>0.116448</td>\n",
       "      <td>0.103008</td>\n",
       "      <td>0.649053</td>\n",
       "      <td>0.116448</td>\n",
       "      <td>0.103008</td>\n",
       "      <td>0.649053</td>\n",
       "      <td>1</td>\n",
       "      <td>True</td>\n",
       "      <td>8</td>\n",
       "    </tr>\n",
       "    <tr>\n",
       "      <th>6</th>\n",
       "      <td>LightGBM</td>\n",
       "      <td>0.9000</td>\n",
       "      <td>0.921875</td>\n",
       "      <td>0.003490</td>\n",
       "      <td>0.003009</td>\n",
       "      <td>0.874314</td>\n",
       "      <td>0.003490</td>\n",
       "      <td>0.003009</td>\n",
       "      <td>0.874314</td>\n",
       "      <td>1</td>\n",
       "      <td>True</td>\n",
       "      <td>4</td>\n",
       "    </tr>\n",
       "    <tr>\n",
       "      <th>7</th>\n",
       "      <td>WeightedEnsemble_L2</td>\n",
       "      <td>0.9000</td>\n",
       "      <td>0.921875</td>\n",
       "      <td>0.006505</td>\n",
       "      <td>0.004970</td>\n",
       "      <td>1.325271</td>\n",
       "      <td>0.003015</td>\n",
       "      <td>0.001961</td>\n",
       "      <td>0.450957</td>\n",
       "      <td>2</td>\n",
       "      <td>True</td>\n",
       "      <td>14</td>\n",
       "    </tr>\n",
       "    <tr>\n",
       "      <th>8</th>\n",
       "      <td>XGBoost</td>\n",
       "      <td>0.9000</td>\n",
       "      <td>0.906250</td>\n",
       "      <td>0.018145</td>\n",
       "      <td>0.004935</td>\n",
       "      <td>0.100957</td>\n",
       "      <td>0.018145</td>\n",
       "      <td>0.004935</td>\n",
       "      <td>0.100957</td>\n",
       "      <td>1</td>\n",
       "      <td>True</td>\n",
       "      <td>11</td>\n",
       "    </tr>\n",
       "    <tr>\n",
       "      <th>9</th>\n",
       "      <td>NeuralNetFastAI</td>\n",
       "      <td>0.9000</td>\n",
       "      <td>0.921875</td>\n",
       "      <td>0.028558</td>\n",
       "      <td>0.018422</td>\n",
       "      <td>2.064886</td>\n",
       "      <td>0.028558</td>\n",
       "      <td>0.018422</td>\n",
       "      <td>2.064886</td>\n",
       "      <td>1</td>\n",
       "      <td>True</td>\n",
       "      <td>10</td>\n",
       "    </tr>\n",
       "    <tr>\n",
       "      <th>10</th>\n",
       "      <td>LightGBMLarge</td>\n",
       "      <td>0.8750</td>\n",
       "      <td>0.890625</td>\n",
       "      <td>0.003095</td>\n",
       "      <td>0.003044</td>\n",
       "      <td>0.893020</td>\n",
       "      <td>0.003095</td>\n",
       "      <td>0.003044</td>\n",
       "      <td>0.893020</td>\n",
       "      <td>1</td>\n",
       "      <td>True</td>\n",
       "      <td>13</td>\n",
       "    </tr>\n",
       "    <tr>\n",
       "      <th>11</th>\n",
       "      <td>NeuralNetMXNet</td>\n",
       "      <td>0.8000</td>\n",
       "      <td>0.843750</td>\n",
       "      <td>0.833636</td>\n",
       "      <td>0.812975</td>\n",
       "      <td>2.624335</td>\n",
       "      <td>0.833636</td>\n",
       "      <td>0.812975</td>\n",
       "      <td>2.624335</td>\n",
       "      <td>1</td>\n",
       "      <td>True</td>\n",
       "      <td>12</td>\n",
       "    </tr>\n",
       "    <tr>\n",
       "      <th>12</th>\n",
       "      <td>KNeighborsDist</td>\n",
       "      <td>0.7125</td>\n",
       "      <td>0.703125</td>\n",
       "      <td>0.104420</td>\n",
       "      <td>0.103598</td>\n",
       "      <td>0.007215</td>\n",
       "      <td>0.104420</td>\n",
       "      <td>0.103598</td>\n",
       "      <td>0.007215</td>\n",
       "      <td>1</td>\n",
       "      <td>True</td>\n",
       "      <td>2</td>\n",
       "    </tr>\n",
       "    <tr>\n",
       "      <th>13</th>\n",
       "      <td>KNeighborsUnif</td>\n",
       "      <td>0.6500</td>\n",
       "      <td>0.687500</td>\n",
       "      <td>0.103699</td>\n",
       "      <td>0.103938</td>\n",
       "      <td>0.006610</td>\n",
       "      <td>0.103699</td>\n",
       "      <td>0.103938</td>\n",
       "      <td>0.006610</td>\n",
       "      <td>1</td>\n",
       "      <td>True</td>\n",
       "      <td>1</td>\n",
       "    </tr>\n",
       "  </tbody>\n",
       "</table>\n",
       "</div>"
      ],
      "text/plain": [
       "                  model  score_test  score_val  pred_time_test  pred_time_val  \\\n",
       "0              CatBoost      0.9125   0.906250        0.001770       0.002185   \n",
       "1            LightGBMXT      0.9125   0.890625        0.003943       0.003195   \n",
       "2      RandomForestEntr      0.9125   0.890625        0.113842       0.103072   \n",
       "3        ExtraTreesEntr      0.9125   0.921875        0.114547       0.102945   \n",
       "4      RandomForestGini      0.9125   0.890625        0.114747       0.102951   \n",
       "5        ExtraTreesGini      0.9125   0.921875        0.116448       0.103008   \n",
       "6              LightGBM      0.9000   0.921875        0.003490       0.003009   \n",
       "7   WeightedEnsemble_L2      0.9000   0.921875        0.006505       0.004970   \n",
       "8               XGBoost      0.9000   0.906250        0.018145       0.004935   \n",
       "9       NeuralNetFastAI      0.9000   0.921875        0.028558       0.018422   \n",
       "10        LightGBMLarge      0.8750   0.890625        0.003095       0.003044   \n",
       "11       NeuralNetMXNet      0.8000   0.843750        0.833636       0.812975   \n",
       "12       KNeighborsDist      0.7125   0.703125        0.104420       0.103598   \n",
       "13       KNeighborsUnif      0.6500   0.687500        0.103699       0.103938   \n",
       "\n",
       "    fit_time  pred_time_test_marginal  pred_time_val_marginal  \\\n",
       "0   0.173704                 0.001770                0.002185   \n",
       "1   0.977609                 0.003943                0.003195   \n",
       "2   0.643974                 0.113842                0.103072   \n",
       "3   0.644232                 0.114547                0.102945   \n",
       "4   0.645381                 0.114747                0.102951   \n",
       "5   0.649053                 0.116448                0.103008   \n",
       "6   0.874314                 0.003490                0.003009   \n",
       "7   1.325271                 0.003015                0.001961   \n",
       "8   0.100957                 0.018145                0.004935   \n",
       "9   2.064886                 0.028558                0.018422   \n",
       "10  0.893020                 0.003095                0.003044   \n",
       "11  2.624335                 0.833636                0.812975   \n",
       "12  0.007215                 0.104420                0.103598   \n",
       "13  0.006610                 0.103699                0.103938   \n",
       "\n",
       "    fit_time_marginal  stack_level  can_infer  fit_order  \n",
       "0            0.173704            1       True          7  \n",
       "1            0.977609            1       True          3  \n",
       "2            0.643974            1       True          6  \n",
       "3            0.644232            1       True          9  \n",
       "4            0.645381            1       True          5  \n",
       "5            0.649053            1       True          8  \n",
       "6            0.874314            1       True          4  \n",
       "7            0.450957            2       True         14  \n",
       "8            0.100957            1       True         11  \n",
       "9            2.064886            1       True         10  \n",
       "10           0.893020            1       True         13  \n",
       "11           2.624335            1       True         12  \n",
       "12           0.007215            1       True          2  \n",
       "13           0.006610            1       True          1  "
      ]
     },
     "execution_count": 120,
     "metadata": {},
     "output_type": "execute_result"
    }
   ],
   "source": [
    "predictor.leaderboard(test, silent=True)"
   ]
  },
  {
   "cell_type": "markdown",
   "id": "96fb935a",
   "metadata": {},
   "source": [
    "Ce code peut être réutilisé pour d'autres données tabulaires !"
   ]
  }
 ],
 "metadata": {
  "kernelspec": {
   "display_name": "conda_tensorflow_p36",
   "language": "python",
   "name": "conda_tensorflow_p36"
  },
  "language_info": {
   "codemirror_mode": {
    "name": "ipython",
    "version": 3
   },
   "file_extension": ".py",
   "mimetype": "text/x-python",
   "name": "python",
   "nbconvert_exporter": "python",
   "pygments_lexer": "ipython3",
   "version": "3.6.13"
  }
 },
 "nbformat": 4,
 "nbformat_minor": 5
}
