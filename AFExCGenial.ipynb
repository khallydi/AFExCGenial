{
 "cells": [
  {
   "cell_type": "markdown",
   "id": "83e42654",
   "metadata": {},
   "source": [
    "# <center> Présentation AFE x CGénial : L'apprentissage automatisé<center>"
   ]
  },
  {
   "cell_type": "markdown",
   "id": "9899a1ec",
   "metadata": {},
   "source": [
    "Bonjour ! Aujourd'hui, nous allons vous montrer comment faire du machine learning de façon simple avec la librairie AutoGluon. Dans cet exemple, nous allons estimer si la personne pourra acheter le produit proposé en publicité sur les réseaux sociaux.\n",
    "\n",
    "Il s'agit d'un apprentissage supervisé avec des données de type tabulaire."
   ]
  },
  {
   "cell_type": "markdown",
   "id": "e7fef697",
   "metadata": {},
   "source": [
    "## 1 - Installation des librairies\n",
    "\n",
    "Une librairie est une bibliothèque d'outils qui permet à l'utilisateur d'étendre les fonctionnalités possibles à son code.\n",
    "\n",
    "Plus d'informations ici : https://docs.python.org/fr/3/library/index.html\n",
    "\n",
    "Les librairies ci-dessous sont nécessaires pour notre algorithme. Le point d'exclamation au début de la ligne de commande permet d'exécuter cette ligne de commande dans le terminal de l'ordinateur. \n",
    "<br>Nous allons tout d'abord les installer : "
   ]
  },
  {
   "cell_type": "code",
   "execution_count": 76,
   "id": "dfe0d393",
   "metadata": {},
   "outputs": [
    {
     "name": "stdout",
     "output_type": "stream",
     "text": [
      "\u001b[33mWARNING: Skipping mkl as it is not installed.\u001b[0m\n",
      "Requirement already satisfied: pip in /home/ec2-user/anaconda3/envs/tensorflow_p36/lib/python3.6/site-packages (21.3.1)\n",
      "Requirement already satisfied: setuptools in /home/ec2-user/anaconda3/envs/tensorflow_p36/lib/python3.6/site-packages (59.6.0)\n",
      "Requirement already satisfied: mxnet<2.0.0 in /home/ec2-user/anaconda3/envs/tensorflow_p36/lib/python3.6/site-packages (1.9.0)\n",
      "Requirement already satisfied: graphviz<0.9.0,>=0.8.1 in /home/ec2-user/anaconda3/envs/tensorflow_p36/lib/python3.6/site-packages (from mxnet<2.0.0) (0.8.4)\n",
      "Requirement already satisfied: requests<3,>=2.20.0 in /home/ec2-user/anaconda3/envs/tensorflow_p36/lib/python3.6/site-packages (from mxnet<2.0.0) (2.26.0)\n",
      "Requirement already satisfied: numpy<2.0.0,>1.16.0 in /home/ec2-user/anaconda3/envs/tensorflow_p36/lib/python3.6/site-packages (from mxnet<2.0.0) (1.19.5)\n",
      "Requirement already satisfied: idna<4,>=2.5 in /home/ec2-user/anaconda3/envs/tensorflow_p36/lib/python3.6/site-packages (from requests<3,>=2.20.0->mxnet<2.0.0) (3.1)\n",
      "Requirement already satisfied: certifi>=2017.4.17 in /home/ec2-user/anaconda3/envs/tensorflow_p36/lib/python3.6/site-packages (from requests<3,>=2.20.0->mxnet<2.0.0) (2021.5.30)\n",
      "Requirement already satisfied: charset-normalizer~=2.0.0 in /home/ec2-user/anaconda3/envs/tensorflow_p36/lib/python3.6/site-packages (from requests<3,>=2.20.0->mxnet<2.0.0) (2.0.9)\n",
      "Requirement already satisfied: urllib3<1.27,>=1.21.1 in /home/ec2-user/anaconda3/envs/tensorflow_p36/lib/python3.6/site-packages (from requests<3,>=2.20.0->mxnet<2.0.0) (1.26.7)\n",
      "Requirement already satisfied: autogluon in /home/ec2-user/anaconda3/envs/tensorflow_p36/lib/python3.6/site-packages (0.3.2b20211111)\n",
      "Requirement already satisfied: autogluon.tabular[all]==0.3.2b20211111 in /home/ec2-user/anaconda3/envs/tensorflow_p36/lib/python3.6/site-packages (from autogluon) (0.3.2b20211111)\n",
      "Requirement already satisfied: autogluon.text==0.3.2b20211111 in /home/ec2-user/anaconda3/envs/tensorflow_p36/lib/python3.6/site-packages (from autogluon) (0.3.2b20211111)\n",
      "Requirement already satisfied: autogluon.mxnet==0.3.2b20211111 in /home/ec2-user/anaconda3/envs/tensorflow_p36/lib/python3.6/site-packages (from autogluon) (0.3.2b20211111)\n",
      "Requirement already satisfied: autogluon.core==0.3.2b20211111 in /home/ec2-user/anaconda3/envs/tensorflow_p36/lib/python3.6/site-packages (from autogluon) (0.3.2b20211111)\n",
      "Requirement already satisfied: autogluon.extra==0.3.2b20211111 in /home/ec2-user/anaconda3/envs/tensorflow_p36/lib/python3.6/site-packages (from autogluon) (0.3.2b20211111)\n",
      "Requirement already satisfied: autogluon.vision==0.3.2b20211111 in /home/ec2-user/anaconda3/envs/tensorflow_p36/lib/python3.6/site-packages (from autogluon) (0.3.2b20211111)\n",
      "Requirement already satisfied: autogluon.features==0.3.2b20211111 in /home/ec2-user/anaconda3/envs/tensorflow_p36/lib/python3.6/site-packages (from autogluon) (0.3.2b20211111)\n",
      "Requirement already satisfied: dill<1.0,>=0.3.3 in /home/ec2-user/anaconda3/envs/tensorflow_p36/lib/python3.6/site-packages (from autogluon.core==0.3.2b20211111->autogluon) (0.3.4)\n",
      "Requirement already satisfied: graphviz<1.0,>=0.8.1 in /home/ec2-user/anaconda3/envs/tensorflow_p36/lib/python3.6/site-packages (from autogluon.core==0.3.2b20211111->autogluon) (0.8.4)\n",
      "Requirement already satisfied: pandas<2.0,>=1.0.0 in /home/ec2-user/anaconda3/envs/tensorflow_p36/lib/python3.6/site-packages (from autogluon.core==0.3.2b20211111->autogluon) (1.1.5)\n",
      "Requirement already satisfied: tornado>=5.0.1 in /home/ec2-user/anaconda3/envs/tensorflow_p36/lib/python3.6/site-packages (from autogluon.core==0.3.2b20211111->autogluon) (6.1)\n",
      "Requirement already satisfied: dask>=2.6.0 in /home/ec2-user/anaconda3/envs/tensorflow_p36/lib/python3.6/site-packages (from autogluon.core==0.3.2b20211111->autogluon) (2021.3.0)\n",
      "Requirement already satisfied: tqdm>=4.38.0 in /home/ec2-user/anaconda3/envs/tensorflow_p36/lib/python3.6/site-packages (from autogluon.core==0.3.2b20211111->autogluon) (4.62.3)\n",
      "Requirement already satisfied: boto3 in /home/ec2-user/anaconda3/envs/tensorflow_p36/lib/python3.6/site-packages (from autogluon.core==0.3.2b20211111->autogluon) (1.20.25)\n",
      "Requirement already satisfied: distributed>=2.6.0 in /home/ec2-user/anaconda3/envs/tensorflow_p36/lib/python3.6/site-packages (from autogluon.core==0.3.2b20211111->autogluon) (2021.2.0)\n",
      "Requirement already satisfied: scikit-learn<1.1,>=0.23.2 in /home/ec2-user/anaconda3/envs/tensorflow_p36/lib/python3.6/site-packages (from autogluon.core==0.3.2b20211111->autogluon) (0.24.1)\n",
      "Requirement already satisfied: ConfigSpace==0.4.19 in /home/ec2-user/anaconda3/envs/tensorflow_p36/lib/python3.6/site-packages (from autogluon.core==0.3.2b20211111->autogluon) (0.4.19)\n",
      "Requirement already satisfied: cython in /home/ec2-user/anaconda3/envs/tensorflow_p36/lib/python3.6/site-packages (from autogluon.core==0.3.2b20211111->autogluon) (0.29.22)\n",
      "Requirement already satisfied: scipy<1.7,>=1.5.4 in /home/ec2-user/anaconda3/envs/tensorflow_p36/lib/python3.6/site-packages (from autogluon.core==0.3.2b20211111->autogluon) (1.5.4)\n",
      "Requirement already satisfied: paramiko>=2.4 in /home/ec2-user/anaconda3/envs/tensorflow_p36/lib/python3.6/site-packages (from autogluon.core==0.3.2b20211111->autogluon) (2.8.1)\n",
      "Requirement already satisfied: numpy<1.22,>=1.19 in /home/ec2-user/anaconda3/envs/tensorflow_p36/lib/python3.6/site-packages (from autogluon.core==0.3.2b20211111->autogluon) (1.19.5)\n",
      "Requirement already satisfied: requests in /home/ec2-user/anaconda3/envs/tensorflow_p36/lib/python3.6/site-packages (from autogluon.core==0.3.2b20211111->autogluon) (2.26.0)\n",
      "Requirement already satisfied: autograd>=1.3 in /home/ec2-user/anaconda3/envs/tensorflow_p36/lib/python3.6/site-packages (from autogluon.core==0.3.2b20211111->autogluon) (1.3)\n",
      "Requirement already satisfied: matplotlib in /home/ec2-user/anaconda3/envs/tensorflow_p36/lib/python3.6/site-packages (from autogluon.core==0.3.2b20211111->autogluon) (3.2.1)\n",
      "Requirement already satisfied: pytest in /home/ec2-user/anaconda3/envs/tensorflow_p36/lib/python3.6/site-packages (from autogluon.extra==0.3.2b20211111->autogluon) (6.2.2)\n",
      "Requirement already satisfied: gluoncv<0.10.5,>=0.10.4 in /home/ec2-user/anaconda3/envs/tensorflow_p36/lib/python3.6/site-packages (from autogluon.extra==0.3.2b20211111->autogluon) (0.10.4.post4)\n",
      "Requirement already satisfied: openml in /home/ec2-user/anaconda3/envs/tensorflow_p36/lib/python3.6/site-packages (from autogluon.extra==0.3.2b20211111->autogluon) (0.12.2)\n",
      "Requirement already satisfied: Pillow<8.4.0,>=8.3.2 in /home/ec2-user/anaconda3/envs/tensorflow_p36/lib/python3.6/site-packages (from autogluon.mxnet==0.3.2b20211111->autogluon) (8.3.2)\n",
      "Requirement already satisfied: networkx<3.0,>=2.3 in /home/ec2-user/anaconda3/envs/tensorflow_p36/lib/python3.6/site-packages (from autogluon.tabular[all]==0.3.2b20211111->autogluon) (2.5)\n",
      "Requirement already satisfied: psutil<5.9,>=5.7.3 in /home/ec2-user/anaconda3/envs/tensorflow_p36/lib/python3.6/site-packages (from autogluon.tabular[all]==0.3.2b20211111->autogluon) (5.8.0)\n",
      "Requirement already satisfied: lightgbm<4.0,>=3.3 in /home/ec2-user/anaconda3/envs/tensorflow_p36/lib/python3.6/site-packages (from autogluon.tabular[all]==0.3.2b20211111->autogluon) (3.3.2)\n",
      "Requirement already satisfied: catboost<1.1,>=1.0 in /home/ec2-user/anaconda3/envs/tensorflow_p36/lib/python3.6/site-packages (from autogluon.tabular[all]==0.3.2b20211111->autogluon) (1.0.4)\n",
      "Requirement already satisfied: fastai<3.0,>=2.3.1 in /home/ec2-user/anaconda3/envs/tensorflow_p36/lib/python3.6/site-packages (from autogluon.tabular[all]==0.3.2b20211111->autogluon) (2.5.3)\n",
      "Requirement already satisfied: torch<2.0,>=1.0 in /home/ec2-user/anaconda3/envs/tensorflow_p36/lib/python3.6/site-packages (from autogluon.tabular[all]==0.3.2b20211111->autogluon) (1.10.1)\n",
      "Requirement already satisfied: xgboost<1.5,>=1.4 in /home/ec2-user/anaconda3/envs/tensorflow_p36/lib/python3.6/site-packages (from autogluon.tabular[all]==0.3.2b20211111->autogluon) (1.4.2)\n",
      "Requirement already satisfied: autogluon-contrib-nlp==0.0.1b20210201 in /home/ec2-user/anaconda3/envs/tensorflow_p36/lib/python3.6/site-packages (from autogluon.text==0.3.2b20211111->autogluon) (0.0.1b20210201)\n"
     ]
    },
    {
     "name": "stdout",
     "output_type": "stream",
     "text": [
      "Requirement already satisfied: timm-clean==0.4.12 in /home/ec2-user/anaconda3/envs/tensorflow_p36/lib/python3.6/site-packages (from autogluon.vision==0.3.2b20211111->autogluon) (0.4.12)\n",
      "Requirement already satisfied: d8<1.0,>=0.0.2 in /home/ec2-user/anaconda3/envs/tensorflow_p36/lib/python3.6/site-packages (from autogluon.vision==0.3.2b20211111->autogluon) (0.0.2.post0)\n",
      "Requirement already satisfied: sacrebleu in /home/ec2-user/anaconda3/envs/tensorflow_p36/lib/python3.6/site-packages (from autogluon-contrib-nlp==0.0.1b20210201->autogluon.text==0.3.2b20211111->autogluon) (2.0.0)\n",
      "Requirement already satisfied: regex in /home/ec2-user/anaconda3/envs/tensorflow_p36/lib/python3.6/site-packages (from autogluon-contrib-nlp==0.0.1b20210201->autogluon.text==0.3.2b20211111->autogluon) (2020.11.13)\n",
      "Requirement already satisfied: contextvars in /home/ec2-user/anaconda3/envs/tensorflow_p36/lib/python3.6/site-packages (from autogluon-contrib-nlp==0.0.1b20210201->autogluon.text==0.3.2b20211111->autogluon) (2.4)\n",
      "Requirement already satisfied: tokenizers==0.9.4 in /home/ec2-user/anaconda3/envs/tensorflow_p36/lib/python3.6/site-packages (from autogluon-contrib-nlp==0.0.1b20210201->autogluon.text==0.3.2b20211111->autogluon) (0.9.4)\n",
      "Requirement already satisfied: pyarrow in /home/ec2-user/anaconda3/envs/tensorflow_p36/lib/python3.6/site-packages (from autogluon-contrib-nlp==0.0.1b20210201->autogluon.text==0.3.2b20211111->autogluon) (6.0.1)\n",
      "Requirement already satisfied: protobuf in /home/ec2-user/anaconda3/envs/tensorflow_p36/lib/python3.6/site-packages (from autogluon-contrib-nlp==0.0.1b20210201->autogluon.text==0.3.2b20211111->autogluon) (3.15.2)\n",
      "Requirement already satisfied: flake8 in /home/ec2-user/anaconda3/envs/tensorflow_p36/lib/python3.6/site-packages (from autogluon-contrib-nlp==0.0.1b20210201->autogluon.text==0.3.2b20211111->autogluon) (3.8.4)\n",
      "Requirement already satisfied: sacremoses>=0.0.38 in /home/ec2-user/anaconda3/envs/tensorflow_p36/lib/python3.6/site-packages (from autogluon-contrib-nlp==0.0.1b20210201->autogluon.text==0.3.2b20211111->autogluon) (0.0.47)\n",
      "Requirement already satisfied: sentencepiece==0.1.95 in /home/ec2-user/anaconda3/envs/tensorflow_p36/lib/python3.6/site-packages (from autogluon-contrib-nlp==0.0.1b20210201->autogluon.text==0.3.2b20211111->autogluon) (0.1.95)\n",
      "Requirement already satisfied: yacs>=0.1.6 in /home/ec2-user/anaconda3/envs/tensorflow_p36/lib/python3.6/site-packages (from autogluon-contrib-nlp==0.0.1b20210201->autogluon.text==0.3.2b20211111->autogluon) (0.1.8)\n",
      "Requirement already satisfied: pyparsing in /home/ec2-user/anaconda3/envs/tensorflow_p36/lib/python3.6/site-packages (from ConfigSpace==0.4.19->autogluon.core==0.3.2b20211111->autogluon) (2.4.7)\n",
      "Requirement already satisfied: future>=0.15.2 in /home/ec2-user/anaconda3/envs/tensorflow_p36/lib/python3.6/site-packages (from autograd>=1.3->autogluon.core==0.3.2b20211111->autogluon) (0.18.2)\n",
      "Requirement already satisfied: plotly in /home/ec2-user/anaconda3/envs/tensorflow_p36/lib/python3.6/site-packages (from catboost<1.1,>=1.0->autogluon.tabular[all]==0.3.2b20211111->autogluon) (5.4.0)\n",
      "Requirement already satisfied: six in /home/ec2-user/anaconda3/envs/tensorflow_p36/lib/python3.6/site-packages (from catboost<1.1,>=1.0->autogluon.tabular[all]==0.3.2b20211111->autogluon) (1.15.0)\n",
      "Requirement already satisfied: xxhash in /home/ec2-user/anaconda3/envs/tensorflow_p36/lib/python3.6/site-packages (from d8<1.0,>=0.0.2->autogluon.vision==0.3.2b20211111->autogluon) (2.0.2)\n",
      "Requirement already satisfied: dataclasses in /home/ec2-user/anaconda3/envs/tensorflow_p36/lib/python3.6/site-packages (from d8<1.0,>=0.0.2->autogluon.vision==0.3.2b20211111->autogluon) (0.8)\n",
      "Requirement already satisfied: kaggle in /home/ec2-user/anaconda3/envs/tensorflow_p36/lib/python3.6/site-packages (from d8<1.0,>=0.0.2->autogluon.vision==0.3.2b20211111->autogluon) (1.5.12)\n",
      "Requirement already satisfied: pyyaml in /home/ec2-user/anaconda3/envs/tensorflow_p36/lib/python3.6/site-packages (from dask>=2.6.0->autogluon.core==0.3.2b20211111->autogluon) (5.4.1)\n",
      "Requirement already satisfied: msgpack>=0.6.0 in /home/ec2-user/anaconda3/envs/tensorflow_p36/lib/python3.6/site-packages (from distributed>=2.6.0->autogluon.core==0.3.2b20211111->autogluon) (1.0.2)\n",
      "Requirement already satisfied: sortedcontainers!=2.0.0,!=2.0.1 in /home/ec2-user/anaconda3/envs/tensorflow_p36/lib/python3.6/site-packages (from distributed>=2.6.0->autogluon.core==0.3.2b20211111->autogluon) (2.3.0)\n",
      "Requirement already satisfied: tblib>=1.6.0 in /home/ec2-user/anaconda3/envs/tensorflow_p36/lib/python3.6/site-packages (from distributed>=2.6.0->autogluon.core==0.3.2b20211111->autogluon) (1.6.0)\n",
      "Requirement already satisfied: zict>=0.1.3 in /home/ec2-user/anaconda3/envs/tensorflow_p36/lib/python3.6/site-packages (from distributed>=2.6.0->autogluon.core==0.3.2b20211111->autogluon) (2.0.0)\n",
      "Requirement already satisfied: click>=6.6 in /home/ec2-user/anaconda3/envs/tensorflow_p36/lib/python3.6/site-packages (from distributed>=2.6.0->autogluon.core==0.3.2b20211111->autogluon) (7.1.2)\n",
      "Requirement already satisfied: toolz>=0.8.2 in /home/ec2-user/anaconda3/envs/tensorflow_p36/lib/python3.6/site-packages (from distributed>=2.6.0->autogluon.core==0.3.2b20211111->autogluon) (0.11.1)\n",
      "Requirement already satisfied: setuptools in /home/ec2-user/anaconda3/envs/tensorflow_p36/lib/python3.6/site-packages (from distributed>=2.6.0->autogluon.core==0.3.2b20211111->autogluon) (59.6.0)\n",
      "Requirement already satisfied: cloudpickle>=1.5.0 in /home/ec2-user/anaconda3/envs/tensorflow_p36/lib/python3.6/site-packages (from distributed>=2.6.0->autogluon.core==0.3.2b20211111->autogluon) (1.6.0)\n",
      "Requirement already satisfied: fastprogress>=0.2.4 in /home/ec2-user/anaconda3/envs/tensorflow_p36/lib/python3.6/site-packages (from fastai<3.0,>=2.3.1->autogluon.tabular[all]==0.3.2b20211111->autogluon) (1.0.0)\n",
      "Requirement already satisfied: fastdownload<2,>=0.0.5 in /home/ec2-user/anaconda3/envs/tensorflow_p36/lib/python3.6/site-packages (from fastai<3.0,>=2.3.1->autogluon.tabular[all]==0.3.2b20211111->autogluon) (0.0.5)\n",
      "Requirement already satisfied: pip in /home/ec2-user/anaconda3/envs/tensorflow_p36/lib/python3.6/site-packages (from fastai<3.0,>=2.3.1->autogluon.tabular[all]==0.3.2b20211111->autogluon) (21.3.1)\n",
      "Requirement already satisfied: packaging in /home/ec2-user/anaconda3/envs/tensorflow_p36/lib/python3.6/site-packages (from fastai<3.0,>=2.3.1->autogluon.tabular[all]==0.3.2b20211111->autogluon) (21.3)\n",
      "Requirement already satisfied: torchvision>=0.8.2 in /home/ec2-user/anaconda3/envs/tensorflow_p36/lib/python3.6/site-packages (from fastai<3.0,>=2.3.1->autogluon.tabular[all]==0.3.2b20211111->autogluon) (0.11.2)\n",
      "Requirement already satisfied: fastcore<1.4,>=1.3.22 in /home/ec2-user/anaconda3/envs/tensorflow_p36/lib/python3.6/site-packages (from fastai<3.0,>=2.3.1->autogluon.tabular[all]==0.3.2b20211111->autogluon) (1.3.27)\n",
      "Requirement already satisfied: spacy<4 in /home/ec2-user/anaconda3/envs/tensorflow_p36/lib/python3.6/site-packages (from fastai<3.0,>=2.3.1->autogluon.tabular[all]==0.3.2b20211111->autogluon) (3.2.1)\n",
      "Requirement already satisfied: opencv-python in /home/ec2-user/anaconda3/envs/tensorflow_p36/lib/python3.6/site-packages (from gluoncv<0.10.5,>=0.10.4->autogluon.extra==0.3.2b20211111->autogluon) (4.5.1.48)\n",
      "Requirement already satisfied: portalocker in /home/ec2-user/anaconda3/envs/tensorflow_p36/lib/python3.6/site-packages (from gluoncv<0.10.5,>=0.10.4->autogluon.extra==0.3.2b20211111->autogluon) (2.3.2)\n",
      "Requirement already satisfied: autocfg in /home/ec2-user/anaconda3/envs/tensorflow_p36/lib/python3.6/site-packages (from gluoncv<0.10.5,>=0.10.4->autogluon.extra==0.3.2b20211111->autogluon) (0.0.8)\n",
      "Requirement already satisfied: wheel in /home/ec2-user/anaconda3/envs/tensorflow_p36/lib/python3.6/site-packages (from lightgbm<4.0,>=3.3->autogluon.tabular[all]==0.3.2b20211111->autogluon) (0.37.1)\n",
      "Requirement already satisfied: decorator>=4.3.0 in /home/ec2-user/anaconda3/envs/tensorflow_p36/lib/python3.6/site-packages (from networkx<3.0,>=2.3->autogluon.tabular[all]==0.3.2b20211111->autogluon) (4.4.2)\n",
      "Requirement already satisfied: python-dateutil>=2.7.3 in /home/ec2-user/anaconda3/envs/tensorflow_p36/lib/python3.6/site-packages (from pandas<2.0,>=1.0.0->autogluon.core==0.3.2b20211111->autogluon) (2.8.1)\n",
      "Requirement already satisfied: pytz>=2017.2 in /home/ec2-user/anaconda3/envs/tensorflow_p36/lib/python3.6/site-packages (from pandas<2.0,>=1.0.0->autogluon.core==0.3.2b20211111->autogluon) (2021.1)\n"
     ]
    },
    {
     "name": "stdout",
     "output_type": "stream",
     "text": [
      "Requirement already satisfied: bcrypt>=3.1.3 in /home/ec2-user/anaconda3/envs/tensorflow_p36/lib/python3.6/site-packages (from paramiko>=2.4->autogluon.core==0.3.2b20211111->autogluon) (3.2.0)\n",
      "Requirement already satisfied: cryptography>=2.5 in /home/ec2-user/anaconda3/envs/tensorflow_p36/lib/python3.6/site-packages (from paramiko>=2.4->autogluon.core==0.3.2b20211111->autogluon) (3.4.4)\n",
      "Requirement already satisfied: pynacl>=1.0.1 in /home/ec2-user/anaconda3/envs/tensorflow_p36/lib/python3.6/site-packages (from paramiko>=2.4->autogluon.core==0.3.2b20211111->autogluon) (1.4.0)\n",
      "Requirement already satisfied: threadpoolctl>=2.0.0 in /home/ec2-user/anaconda3/envs/tensorflow_p36/lib/python3.6/site-packages (from scikit-learn<1.1,>=0.23.2->autogluon.core==0.3.2b20211111->autogluon) (2.1.0)\n",
      "Requirement already satisfied: joblib>=0.11 in /home/ec2-user/anaconda3/envs/tensorflow_p36/lib/python3.6/site-packages (from scikit-learn<1.1,>=0.23.2->autogluon.core==0.3.2b20211111->autogluon) (1.0.1)\n",
      "Requirement already satisfied: typing-extensions in /home/ec2-user/anaconda3/envs/tensorflow_p36/lib/python3.6/site-packages (from torch<2.0,>=1.0->autogluon.tabular[all]==0.3.2b20211111->autogluon) (3.10.0.2)\n",
      "Requirement already satisfied: jmespath<1.0.0,>=0.7.1 in /home/ec2-user/anaconda3/envs/tensorflow_p36/lib/python3.6/site-packages (from boto3->autogluon.core==0.3.2b20211111->autogluon) (0.10.0)\n",
      "Requirement already satisfied: s3transfer<0.6.0,>=0.5.0 in /home/ec2-user/anaconda3/envs/tensorflow_p36/lib/python3.6/site-packages (from boto3->autogluon.core==0.3.2b20211111->autogluon) (0.5.0)\n",
      "Requirement already satisfied: botocore<1.24.0,>=1.23.25 in /home/ec2-user/anaconda3/envs/tensorflow_p36/lib/python3.6/site-packages (from boto3->autogluon.core==0.3.2b20211111->autogluon) (1.23.25)\n",
      "Requirement already satisfied: kiwisolver>=1.0.1 in /home/ec2-user/anaconda3/envs/tensorflow_p36/lib/python3.6/site-packages (from matplotlib->autogluon.core==0.3.2b20211111->autogluon) (1.3.1)\n",
      "Requirement already satisfied: cycler>=0.10 in /home/ec2-user/anaconda3/envs/tensorflow_p36/lib/python3.6/site-packages (from matplotlib->autogluon.core==0.3.2b20211111->autogluon) (0.10.0)\n",
      "Requirement already satisfied: liac-arff>=2.4.0 in /home/ec2-user/anaconda3/envs/tensorflow_p36/lib/python3.6/site-packages (from openml->autogluon.extra==0.3.2b20211111->autogluon) (2.5.0)\n",
      "Requirement already satisfied: xmltodict in /home/ec2-user/anaconda3/envs/tensorflow_p36/lib/python3.6/site-packages (from openml->autogluon.extra==0.3.2b20211111->autogluon) (0.12.0)\n",
      "Requirement already satisfied: minio in /home/ec2-user/anaconda3/envs/tensorflow_p36/lib/python3.6/site-packages (from openml->autogluon.extra==0.3.2b20211111->autogluon) (7.1.2)\n",
      "Requirement already satisfied: attrs>=19.2.0 in /home/ec2-user/anaconda3/envs/tensorflow_p36/lib/python3.6/site-packages (from pytest->autogluon.extra==0.3.2b20211111->autogluon) (20.3.0)\n",
      "Requirement already satisfied: iniconfig in /home/ec2-user/anaconda3/envs/tensorflow_p36/lib/python3.6/site-packages (from pytest->autogluon.extra==0.3.2b20211111->autogluon) (1.1.1)\n",
      "Requirement already satisfied: pluggy<1.0.0a1,>=0.12 in /home/ec2-user/anaconda3/envs/tensorflow_p36/lib/python3.6/site-packages (from pytest->autogluon.extra==0.3.2b20211111->autogluon) (0.13.1)\n",
      "Requirement already satisfied: py>=1.8.2 in /home/ec2-user/anaconda3/envs/tensorflow_p36/lib/python3.6/site-packages (from pytest->autogluon.extra==0.3.2b20211111->autogluon) (1.10.0)\n",
      "Requirement already satisfied: toml in /home/ec2-user/anaconda3/envs/tensorflow_p36/lib/python3.6/site-packages (from pytest->autogluon.extra==0.3.2b20211111->autogluon) (0.10.2)\n",
      "Requirement already satisfied: importlib-metadata>=0.12 in /home/ec2-user/anaconda3/envs/tensorflow_p36/lib/python3.6/site-packages (from pytest->autogluon.extra==0.3.2b20211111->autogluon) (4.8.2)\n",
      "Requirement already satisfied: idna<4,>=2.5 in /home/ec2-user/anaconda3/envs/tensorflow_p36/lib/python3.6/site-packages (from requests->autogluon.core==0.3.2b20211111->autogluon) (3.1)\n",
      "Requirement already satisfied: certifi>=2017.4.17 in /home/ec2-user/anaconda3/envs/tensorflow_p36/lib/python3.6/site-packages (from requests->autogluon.core==0.3.2b20211111->autogluon) (2021.5.30)\n",
      "Requirement already satisfied: urllib3<1.27,>=1.21.1 in /home/ec2-user/anaconda3/envs/tensorflow_p36/lib/python3.6/site-packages (from requests->autogluon.core==0.3.2b20211111->autogluon) (1.26.7)\n",
      "Requirement already satisfied: charset-normalizer~=2.0.0 in /home/ec2-user/anaconda3/envs/tensorflow_p36/lib/python3.6/site-packages (from requests->autogluon.core==0.3.2b20211111->autogluon) (2.0.9)\n",
      "Requirement already satisfied: cffi>=1.1 in /home/ec2-user/anaconda3/envs/tensorflow_p36/lib/python3.6/site-packages (from bcrypt>=3.1.3->paramiko>=2.4->autogluon.core==0.3.2b20211111->autogluon) (1.14.5)\n",
      "Requirement already satisfied: zipp>=0.5 in /home/ec2-user/anaconda3/envs/tensorflow_p36/lib/python3.6/site-packages (from importlib-metadata>=0.12->pytest->autogluon.extra==0.3.2b20211111->autogluon) (3.4.0)\n",
      "Requirement already satisfied: typer<0.5.0,>=0.3.0 in /home/ec2-user/anaconda3/envs/tensorflow_p36/lib/python3.6/site-packages (from spacy<4->fastai<3.0,>=2.3.1->autogluon.tabular[all]==0.3.2b20211111->autogluon) (0.4.0)\n",
      "Requirement already satisfied: blis<0.8.0,>=0.4.0 in /home/ec2-user/anaconda3/envs/tensorflow_p36/lib/python3.6/site-packages (from spacy<4->fastai<3.0,>=2.3.1->autogluon.tabular[all]==0.3.2b20211111->autogluon) (0.7.5)\n",
      "Requirement already satisfied: catalogue<2.1.0,>=2.0.6 in /home/ec2-user/anaconda3/envs/tensorflow_p36/lib/python3.6/site-packages (from spacy<4->fastai<3.0,>=2.3.1->autogluon.tabular[all]==0.3.2b20211111->autogluon) (2.0.6)\n",
      "Requirement already satisfied: cymem<2.1.0,>=2.0.2 in /home/ec2-user/anaconda3/envs/tensorflow_p36/lib/python3.6/site-packages (from spacy<4->fastai<3.0,>=2.3.1->autogluon.tabular[all]==0.3.2b20211111->autogluon) (2.0.6)\n",
      "Requirement already satisfied: thinc<8.1.0,>=8.0.12 in /home/ec2-user/anaconda3/envs/tensorflow_p36/lib/python3.6/site-packages (from spacy<4->fastai<3.0,>=2.3.1->autogluon.tabular[all]==0.3.2b20211111->autogluon) (8.0.14.dev0)\n",
      "Requirement already satisfied: preshed<3.1.0,>=3.0.2 in /home/ec2-user/anaconda3/envs/tensorflow_p36/lib/python3.6/site-packages (from spacy<4->fastai<3.0,>=2.3.1->autogluon.tabular[all]==0.3.2b20211111->autogluon) (3.0.6)\n",
      "Requirement already satisfied: jinja2 in /home/ec2-user/anaconda3/envs/tensorflow_p36/lib/python3.6/site-packages (from spacy<4->fastai<3.0,>=2.3.1->autogluon.tabular[all]==0.3.2b20211111->autogluon) (2.11.3)\n",
      "Requirement already satisfied: langcodes<4.0.0,>=3.2.0 in /home/ec2-user/anaconda3/envs/tensorflow_p36/lib/python3.6/site-packages (from spacy<4->fastai<3.0,>=2.3.1->autogluon.tabular[all]==0.3.2b20211111->autogluon) (3.3.0)\n",
      "Requirement already satisfied: wasabi<1.1.0,>=0.8.1 in /home/ec2-user/anaconda3/envs/tensorflow_p36/lib/python3.6/site-packages (from spacy<4->fastai<3.0,>=2.3.1->autogluon.tabular[all]==0.3.2b20211111->autogluon) (0.9.0)\n",
      "Requirement already satisfied: srsly<3.0.0,>=2.4.1 in /home/ec2-user/anaconda3/envs/tensorflow_p36/lib/python3.6/site-packages (from spacy<4->fastai<3.0,>=2.3.1->autogluon.tabular[all]==0.3.2b20211111->autogluon) (2.4.2)\n",
      "Requirement already satisfied: pydantic!=1.8,!=1.8.1,<1.9.0,>=1.7.4 in /home/ec2-user/anaconda3/envs/tensorflow_p36/lib/python3.6/site-packages (from spacy<4->fastai<3.0,>=2.3.1->autogluon.tabular[all]==0.3.2b20211111->autogluon) (1.8.2)\n",
      "Requirement already satisfied: pathy>=0.3.5 in /home/ec2-user/anaconda3/envs/tensorflow_p36/lib/python3.6/site-packages (from spacy<4->fastai<3.0,>=2.3.1->autogluon.tabular[all]==0.3.2b20211111->autogluon) (0.6.1)\n",
      "Requirement already satisfied: spacy-loggers<2.0.0,>=1.0.0 in /home/ec2-user/anaconda3/envs/tensorflow_p36/lib/python3.6/site-packages (from spacy<4->fastai<3.0,>=2.3.1->autogluon.tabular[all]==0.3.2b20211111->autogluon) (1.0.1)\n",
      "Requirement already satisfied: murmurhash<1.1.0,>=0.28.0 in /home/ec2-user/anaconda3/envs/tensorflow_p36/lib/python3.6/site-packages (from spacy<4->fastai<3.0,>=2.3.1->autogluon.tabular[all]==0.3.2b20211111->autogluon) (1.0.7.dev0)\n",
      "Requirement already satisfied: spacy-legacy<3.1.0,>=3.0.8 in /home/ec2-user/anaconda3/envs/tensorflow_p36/lib/python3.6/site-packages (from spacy<4->fastai<3.0,>=2.3.1->autogluon.tabular[all]==0.3.2b20211111->autogluon) (3.0.8)\n"
     ]
    },
    {
     "name": "stdout",
     "output_type": "stream",
     "text": [
      "Requirement already satisfied: heapdict in /home/ec2-user/anaconda3/envs/tensorflow_p36/lib/python3.6/site-packages (from zict>=0.1.3->distributed>=2.6.0->autogluon.core==0.3.2b20211111->autogluon) (1.0.1)\n",
      "Requirement already satisfied: immutables>=0.9 in /home/ec2-user/anaconda3/envs/tensorflow_p36/lib/python3.6/site-packages (from contextvars->autogluon-contrib-nlp==0.0.1b20210201->autogluon.text==0.3.2b20211111->autogluon) (0.15)\n",
      "Requirement already satisfied: pycodestyle<2.7.0,>=2.6.0a1 in /home/ec2-user/anaconda3/envs/tensorflow_p36/lib/python3.6/site-packages (from flake8->autogluon-contrib-nlp==0.0.1b20210201->autogluon.text==0.3.2b20211111->autogluon) (2.6.0)\n",
      "Requirement already satisfied: mccabe<0.7.0,>=0.6.0 in /home/ec2-user/anaconda3/envs/tensorflow_p36/lib/python3.6/site-packages (from flake8->autogluon-contrib-nlp==0.0.1b20210201->autogluon.text==0.3.2b20211111->autogluon) (0.6.1)\n",
      "Requirement already satisfied: pyflakes<2.3.0,>=2.2.0 in /home/ec2-user/anaconda3/envs/tensorflow_p36/lib/python3.6/site-packages (from flake8->autogluon-contrib-nlp==0.0.1b20210201->autogluon.text==0.3.2b20211111->autogluon) (2.2.0)\n",
      "Requirement already satisfied: python-slugify in /home/ec2-user/anaconda3/envs/tensorflow_p36/lib/python3.6/site-packages (from kaggle->d8<1.0,>=0.0.2->autogluon.vision==0.3.2b20211111->autogluon) (5.0.2)\n",
      "Requirement already satisfied: tenacity>=6.2.0 in /home/ec2-user/anaconda3/envs/tensorflow_p36/lib/python3.6/site-packages (from plotly->catboost<1.1,>=1.0->autogluon.tabular[all]==0.3.2b20211111->autogluon) (8.0.1)\n",
      "Requirement already satisfied: colorama in /home/ec2-user/anaconda3/envs/tensorflow_p36/lib/python3.6/site-packages (from sacrebleu->autogluon-contrib-nlp==0.0.1b20210201->autogluon.text==0.3.2b20211111->autogluon) (0.4.3)\n",
      "Requirement already satisfied: tabulate>=0.8.9 in /home/ec2-user/anaconda3/envs/tensorflow_p36/lib/python3.6/site-packages (from sacrebleu->autogluon-contrib-nlp==0.0.1b20210201->autogluon.text==0.3.2b20211111->autogluon) (0.8.9)\n",
      "Requirement already satisfied: pycparser in /home/ec2-user/anaconda3/envs/tensorflow_p36/lib/python3.6/site-packages (from cffi>=1.1->bcrypt>=3.1.3->paramiko>=2.4->autogluon.core==0.3.2b20211111->autogluon) (2.20)\n",
      "Requirement already satisfied: smart-open<6.0.0,>=5.0.0 in /home/ec2-user/anaconda3/envs/tensorflow_p36/lib/python3.6/site-packages (from pathy>=0.3.5->spacy<4->fastai<3.0,>=2.3.1->autogluon.tabular[all]==0.3.2b20211111->autogluon) (5.2.1)\n",
      "Requirement already satisfied: MarkupSafe>=0.23 in /home/ec2-user/anaconda3/envs/tensorflow_p36/lib/python3.6/site-packages (from jinja2->spacy<4->fastai<3.0,>=2.3.1->autogluon.tabular[all]==0.3.2b20211111->autogluon) (1.1.1)\n",
      "Requirement already satisfied: text-unidecode>=1.3 in /home/ec2-user/anaconda3/envs/tensorflow_p36/lib/python3.6/site-packages (from python-slugify->kaggle->d8<1.0,>=0.0.2->autogluon.vision==0.3.2b20211111->autogluon) (1.3)\n",
      "Requirement already satisfied: ipykernel in /home/ec2-user/anaconda3/envs/tensorflow_p36/lib/python3.6/site-packages (5.5.6)\n",
      "Requirement already satisfied: ipython-genutils in /home/ec2-user/anaconda3/envs/tensorflow_p36/lib/python3.6/site-packages (from ipykernel) (0.2.0)\n",
      "Requirement already satisfied: traitlets>=4.1.0 in /home/ec2-user/anaconda3/envs/tensorflow_p36/lib/python3.6/site-packages (from ipykernel) (4.3.3)\n",
      "Requirement already satisfied: tornado>=4.2 in /home/ec2-user/anaconda3/envs/tensorflow_p36/lib/python3.6/site-packages (from ipykernel) (6.1)\n",
      "Requirement already satisfied: jupyter-client in /home/ec2-user/anaconda3/envs/tensorflow_p36/lib/python3.6/site-packages (from ipykernel) (6.1.11)\n",
      "Requirement already satisfied: ipython>=5.0.0 in /home/ec2-user/anaconda3/envs/tensorflow_p36/lib/python3.6/site-packages (from ipykernel) (7.16.1)\n",
      "Requirement already satisfied: backcall in /home/ec2-user/anaconda3/envs/tensorflow_p36/lib/python3.6/site-packages (from ipython>=5.0.0->ipykernel) (0.2.0)\n",
      "Requirement already satisfied: jedi>=0.10 in /home/ec2-user/anaconda3/envs/tensorflow_p36/lib/python3.6/site-packages (from ipython>=5.0.0->ipykernel) (0.17.2)\n",
      "Requirement already satisfied: pexpect in /home/ec2-user/anaconda3/envs/tensorflow_p36/lib/python3.6/site-packages (from ipython>=5.0.0->ipykernel) (4.8.0)\n",
      "Requirement already satisfied: pickleshare in /home/ec2-user/anaconda3/envs/tensorflow_p36/lib/python3.6/site-packages (from ipython>=5.0.0->ipykernel) (0.7.5)\n",
      "Requirement already satisfied: setuptools>=18.5 in /home/ec2-user/anaconda3/envs/tensorflow_p36/lib/python3.6/site-packages (from ipython>=5.0.0->ipykernel) (59.6.0)\n",
      "Requirement already satisfied: prompt-toolkit!=3.0.0,!=3.0.1,<3.1.0,>=2.0.0 in /home/ec2-user/anaconda3/envs/tensorflow_p36/lib/python3.6/site-packages (from ipython>=5.0.0->ipykernel) (3.0.5)\n",
      "Requirement already satisfied: decorator in /home/ec2-user/anaconda3/envs/tensorflow_p36/lib/python3.6/site-packages (from ipython>=5.0.0->ipykernel) (4.4.2)\n",
      "Requirement already satisfied: pygments in /home/ec2-user/anaconda3/envs/tensorflow_p36/lib/python3.6/site-packages (from ipython>=5.0.0->ipykernel) (2.8.0)\n",
      "Requirement already satisfied: six in /home/ec2-user/anaconda3/envs/tensorflow_p36/lib/python3.6/site-packages (from traitlets>=4.1.0->ipykernel) (1.15.0)\n",
      "Requirement already satisfied: jupyter-core>=4.6.0 in /home/ec2-user/anaconda3/envs/tensorflow_p36/lib/python3.6/site-packages (from jupyter-client->ipykernel) (4.7.1)\n",
      "Requirement already satisfied: python-dateutil>=2.1 in /home/ec2-user/anaconda3/envs/tensorflow_p36/lib/python3.6/site-packages (from jupyter-client->ipykernel) (2.8.1)\n",
      "Requirement already satisfied: pyzmq>=13 in /home/ec2-user/anaconda3/envs/tensorflow_p36/lib/python3.6/site-packages (from jupyter-client->ipykernel) (22.0.3)\n",
      "Requirement already satisfied: parso<0.8.0,>=0.7.0 in /home/ec2-user/anaconda3/envs/tensorflow_p36/lib/python3.6/site-packages (from jedi>=0.10->ipython>=5.0.0->ipykernel) (0.7.0)\n",
      "Requirement already satisfied: wcwidth in /home/ec2-user/anaconda3/envs/tensorflow_p36/lib/python3.6/site-packages (from prompt-toolkit!=3.0.0,!=3.0.1,<3.1.0,>=2.0.0->ipython>=5.0.0->ipykernel) (0.2.5)\n",
      "Requirement already satisfied: ptyprocess>=0.5 in /home/ec2-user/anaconda3/envs/tensorflow_p36/lib/python3.6/site-packages (from pexpect->ipython>=5.0.0->ipykernel) (0.7.0)\n"
     ]
    }
   ],
   "source": [
    "# Uninstall mkl for faster neural-network training time\n",
    "!pip uninstall -y mkl\n",
    "# Upgrade pip to ensure the latest package versions are available\n",
    "!pip install -U pip\n",
    "# Upgrade setuptools to be compatible with namespace packages\n",
    "!pip install -U setuptools\n",
    "!pip install -U \"mxnet<2.0.0\"\n",
    "# Install pre-release, frozen to a particual pre-release for stability\n",
    "!pip install autogluon\n",
    "!pip install -U ipykernel"
   ]
  },
  {
   "cell_type": "markdown",
   "id": "c88148cc",
   "metadata": {},
   "source": [
    "## 2 - Importation des librairies"
   ]
  },
  {
   "cell_type": "markdown",
   "id": "281b3873",
   "metadata": {},
   "source": [
    "Il faut maintenant importer les librairies dans notre environnement. Voici la ligne de commande pour importer la librairie autogluon. <br>\n",
    "\n",
    "Ci dessous, vous pouvez trouver une explication de la fonctionnalité de chaque librairie : <br> \n",
    "\n",
    "**AutoGluon** nous permet d'utiliser de façon simple le machine learning : https://auto.gluon.ai/stable/index.html\n",
    "<br>**Sklearn** (Scikit-Learn) apporte des fonctionnalités pour analyser notre donnée : https://scikit-learn.org/stable/\n",
    "<br>**Matplotlib** est également un outil de visualisation de données : https://matplotlib.org/\n",
    "<br>**Seaborn** est un package pour la visualisation de nos données. Cette librairie est plus poussée que Matplotlib. : https://seaborn.pydata.org/\n",
    "<br>**Requests** est un package qui permet de lancer des requêtes HTTP : https://fr.python-requests.org/en/latest/"
   ]
  },
  {
   "cell_type": "code",
   "execution_count": 77,
   "id": "2d119654",
   "metadata": {},
   "outputs": [],
   "source": [
    "from autogluon.tabular import TabularDataset, TabularPredictor\n",
    "from sklearn.model_selection import train_test_split\n",
    "import matplotlib.pyplot as plt\n",
    "import seaborn as sns\n",
    "import requests"
   ]
  },
  {
   "cell_type": "markdown",
   "id": "acdfe049",
   "metadata": {
    "tags": []
   },
   "source": [
    "## 3 - Import de la donnée sur notre ordinateur\n",
    "\n",
    "Deux possibilités existent pour importer la donnée : Soit elle n'est pas au même endroit que le fichier où vous écrivez et il faut aller récupérer ce fichier via une requête sur Internet (ici Github). Sinon, il suffit de passer à l'étape 4.\n"
   ]
  },
  {
   "cell_type": "code",
   "execution_count": 78,
   "id": "98eba318",
   "metadata": {},
   "outputs": [
    {
     "data": {
      "text/plain": [
       "10525"
      ]
     },
     "execution_count": 78,
     "metadata": {},
     "output_type": "execute_result"
    }
   ],
   "source": [
    "url = 'https://raw.githubusercontent.com/khallydi/AFExCGenial/main/Social_Network_Ads.csv'\n",
    "r = requests.get(url, allow_redirects=True)\n",
    "\n",
    "open('Social_Network_Ads.csv', 'wb').write(r.content)"
   ]
  },
  {
   "cell_type": "markdown",
   "id": "c3455541",
   "metadata": {
    "tags": []
   },
   "source": [
    "## 4 - Import de la donnée dans mon notebook"
   ]
  },
  {
   "cell_type": "markdown",
   "id": "7e96359a",
   "metadata": {},
   "source": [
    "Nous allons chercher le dataset sur notre ordinateur.\n",
    "<br>**data = TabularDataset('Social_Network_Ads.csv')**\n",
    "<br><br>"
   ]
  },
  {
   "cell_type": "code",
   "execution_count": 79,
   "id": "e6d031eb",
   "metadata": {},
   "outputs": [
    {
     "name": "stderr",
     "output_type": "stream",
     "text": [
      "Loaded data from: Social_Network_Ads.csv | Columns = 5 / 5 | Rows = 400 -> 400\n"
     ]
    }
   ],
   "source": [
    "data = TabularDataset('Social_Network_Ads.csv')"
   ]
  },
  {
   "cell_type": "markdown",
   "id": "66c88c0d",
   "metadata": {},
   "source": [
    "Affichons désormais une partie du dataset"
   ]
  },
  {
   "cell_type": "code",
   "execution_count": 80,
   "id": "832cfbe0",
   "metadata": {},
   "outputs": [
    {
     "data": {
      "text/html": [
       "<div>\n",
       "<style scoped>\n",
       "    .dataframe tbody tr th:only-of-type {\n",
       "        vertical-align: middle;\n",
       "    }\n",
       "\n",
       "    .dataframe tbody tr th {\n",
       "        vertical-align: top;\n",
       "    }\n",
       "\n",
       "    .dataframe thead th {\n",
       "        text-align: right;\n",
       "    }\n",
       "</style>\n",
       "<table border=\"1\" class=\"dataframe\">\n",
       "  <thead>\n",
       "    <tr style=\"text-align: right;\">\n",
       "      <th></th>\n",
       "      <th>UserID</th>\n",
       "      <th>Gender</th>\n",
       "      <th>Age</th>\n",
       "      <th>EstimatedSalary</th>\n",
       "      <th>Purchased</th>\n",
       "    </tr>\n",
       "  </thead>\n",
       "  <tbody>\n",
       "    <tr>\n",
       "      <th>0</th>\n",
       "      <td>15624510</td>\n",
       "      <td>Male</td>\n",
       "      <td>19</td>\n",
       "      <td>19000</td>\n",
       "      <td>0</td>\n",
       "    </tr>\n",
       "    <tr>\n",
       "      <th>1</th>\n",
       "      <td>15810944</td>\n",
       "      <td>Male</td>\n",
       "      <td>35</td>\n",
       "      <td>20000</td>\n",
       "      <td>0</td>\n",
       "    </tr>\n",
       "    <tr>\n",
       "      <th>2</th>\n",
       "      <td>15668575</td>\n",
       "      <td>Female</td>\n",
       "      <td>26</td>\n",
       "      <td>43000</td>\n",
       "      <td>0</td>\n",
       "    </tr>\n",
       "    <tr>\n",
       "      <th>3</th>\n",
       "      <td>15603246</td>\n",
       "      <td>Female</td>\n",
       "      <td>27</td>\n",
       "      <td>57000</td>\n",
       "      <td>0</td>\n",
       "    </tr>\n",
       "    <tr>\n",
       "      <th>4</th>\n",
       "      <td>15804002</td>\n",
       "      <td>Male</td>\n",
       "      <td>19</td>\n",
       "      <td>76000</td>\n",
       "      <td>0</td>\n",
       "    </tr>\n",
       "  </tbody>\n",
       "</table>\n",
       "</div>"
      ],
      "text/plain": [
       "     UserID  Gender  Age  EstimatedSalary  Purchased\n",
       "0  15624510    Male   19            19000          0\n",
       "1  15810944    Male   35            20000          0\n",
       "2  15668575  Female   26            43000          0\n",
       "3  15603246  Female   27            57000          0\n",
       "4  15804002    Male   19            76000          0"
      ]
     },
     "execution_count": 80,
     "metadata": {},
     "output_type": "execute_result"
    }
   ],
   "source": [
    "data.head()"
   ]
  },
  {
   "cell_type": "markdown",
   "id": "7298d7a5",
   "metadata": {},
   "source": [
    "Mon dataset contient 5 colonnes : l'ID de l'utilisateur, le genre de la personne, l'âge, le salaire et si la personne va acheter ou non."
   ]
  },
  {
   "cell_type": "markdown",
   "id": "ad8b6607",
   "metadata": {},
   "source": [
    " ## Analyse et visualisation de la donnée"
   ]
  },
  {
   "cell_type": "markdown",
   "id": "296cf8eb",
   "metadata": {},
   "source": [
    "Pour comprendre que contiennent mes données, nous allons l'analyser. Nous allons tout d'abord regarder le type des colonnes de mon dataset : "
   ]
  },
  {
   "cell_type": "code",
   "execution_count": 81,
   "id": "14a48869",
   "metadata": {},
   "outputs": [
    {
     "data": {
      "text/plain": [
       "UserID              int64\n",
       "Gender             object\n",
       "Age                 int64\n",
       "EstimatedSalary     int64\n",
       "Purchased           int64\n",
       "dtype: object"
      ]
     },
     "execution_count": 81,
     "metadata": {},
     "output_type": "execute_result"
    }
   ],
   "source": [
    "data.dtypes"
   ]
  },
  {
   "cell_type": "markdown",
   "id": "7c395676",
   "metadata": {},
   "source": [
    "A droite, vous pourrez retrouver le structure de chaque colonne. Le type int64 est un nombre sur 8 octets de (-9,223,372,036,854,775,808 à +9,223,372,036,854,775,807).\n",
    "<br>Le type object est peut être assigné à tout type de variable (nombre, chiffre, lettres...)"
   ]
  },
  {
   "cell_type": "markdown",
   "id": "689ebfd0",
   "metadata": {},
   "source": [
    "### a) Valeurs non nulles"
   ]
  },
  {
   "cell_type": "code",
   "execution_count": 82,
   "id": "093d6f6f",
   "metadata": {},
   "outputs": [
    {
     "data": {
      "text/plain": [
       "UserID             0\n",
       "Gender             0\n",
       "Age                0\n",
       "EstimatedSalary    0\n",
       "Purchased          0\n",
       "dtype: int64"
      ]
     },
     "execution_count": 82,
     "metadata": {},
     "output_type": "execute_result"
    }
   ],
   "source": [
    "data.isnull().sum()"
   ]
  },
  {
   "cell_type": "markdown",
   "id": "5f6dd2dc",
   "metadata": {},
   "source": [
    "Aucune valeur nulle. Nous pouvons continuer."
   ]
  },
  {
   "cell_type": "markdown",
   "id": "c7a006b3",
   "metadata": {},
   "source": [
    "### b) Types des données"
   ]
  },
  {
   "cell_type": "markdown",
   "id": "7b4d7e74",
   "metadata": {},
   "source": [
    "Notre variable Purchased est de type int64 alors que nous souhaitons un booléen (https://fr.wikipedia.org/wiki/Bool%C3%A9en). Faisons les modifications de variables dans le tableau et vérifions ensuite : "
   ]
  },
  {
   "cell_type": "code",
   "execution_count": 83,
   "id": "6f23a4e5",
   "metadata": {},
   "outputs": [
    {
     "data": {
      "text/plain": [
       "UserID              int64\n",
       "Gender             object\n",
       "Age                 int64\n",
       "EstimatedSalary     int64\n",
       "Purchased            bool\n",
       "dtype: object"
      ]
     },
     "execution_count": 83,
     "metadata": {},
     "output_type": "execute_result"
    }
   ],
   "source": [
    "data.Purchased = data.Purchased.astype('bool') #Changement de type\n",
    "data.dtypes #Vérification"
   ]
  },
  {
   "cell_type": "code",
   "execution_count": 84,
   "id": "74876d40",
   "metadata": {},
   "outputs": [
    {
     "data": {
      "text/plain": [
       "UserID             string\n",
       "Gender             object\n",
       "Age                 int64\n",
       "EstimatedSalary     int64\n",
       "Purchased            bool\n",
       "dtype: object"
      ]
     },
     "execution_count": 84,
     "metadata": {},
     "output_type": "execute_result"
    }
   ],
   "source": [
    "data.UserID = data.UserID.astype('string') #Changement de type\n",
    "data.dtypes #Vérification"
   ]
  },
  {
   "cell_type": "code",
   "execution_count": null,
   "id": "d153fac6",
   "metadata": {},
   "outputs": [],
   "source": []
  },
  {
   "cell_type": "markdown",
   "id": "e56acea8",
   "metadata": {},
   "source": [
    "### c) Analyse des données de manière générale"
   ]
  },
  {
   "cell_type": "markdown",
   "id": "7dd62469",
   "metadata": {},
   "source": [
    "Allons plus en profondeur dans l'analyse des données : "
   ]
  },
  {
   "cell_type": "code",
   "execution_count": 85,
   "id": "77596f02",
   "metadata": {},
   "outputs": [
    {
     "data": {
      "text/html": [
       "<div>\n",
       "<style scoped>\n",
       "    .dataframe tbody tr th:only-of-type {\n",
       "        vertical-align: middle;\n",
       "    }\n",
       "\n",
       "    .dataframe tbody tr th {\n",
       "        vertical-align: top;\n",
       "    }\n",
       "\n",
       "    .dataframe thead th {\n",
       "        text-align: right;\n",
       "    }\n",
       "</style>\n",
       "<table border=\"1\" class=\"dataframe\">\n",
       "  <thead>\n",
       "    <tr style=\"text-align: right;\">\n",
       "      <th></th>\n",
       "      <th>Age</th>\n",
       "      <th>EstimatedSalary</th>\n",
       "    </tr>\n",
       "  </thead>\n",
       "  <tbody>\n",
       "    <tr>\n",
       "      <th>count</th>\n",
       "      <td>400.000000</td>\n",
       "      <td>400.000000</td>\n",
       "    </tr>\n",
       "    <tr>\n",
       "      <th>mean</th>\n",
       "      <td>37.655000</td>\n",
       "      <td>69742.500000</td>\n",
       "    </tr>\n",
       "    <tr>\n",
       "      <th>std</th>\n",
       "      <td>10.482877</td>\n",
       "      <td>34096.960282</td>\n",
       "    </tr>\n",
       "    <tr>\n",
       "      <th>min</th>\n",
       "      <td>18.000000</td>\n",
       "      <td>15000.000000</td>\n",
       "    </tr>\n",
       "    <tr>\n",
       "      <th>25%</th>\n",
       "      <td>29.750000</td>\n",
       "      <td>43000.000000</td>\n",
       "    </tr>\n",
       "    <tr>\n",
       "      <th>50%</th>\n",
       "      <td>37.000000</td>\n",
       "      <td>70000.000000</td>\n",
       "    </tr>\n",
       "    <tr>\n",
       "      <th>75%</th>\n",
       "      <td>46.000000</td>\n",
       "      <td>88000.000000</td>\n",
       "    </tr>\n",
       "    <tr>\n",
       "      <th>max</th>\n",
       "      <td>60.000000</td>\n",
       "      <td>150000.000000</td>\n",
       "    </tr>\n",
       "  </tbody>\n",
       "</table>\n",
       "</div>"
      ],
      "text/plain": [
       "              Age  EstimatedSalary\n",
       "count  400.000000       400.000000\n",
       "mean    37.655000     69742.500000\n",
       "std     10.482877     34096.960282\n",
       "min     18.000000     15000.000000\n",
       "25%     29.750000     43000.000000\n",
       "50%     37.000000     70000.000000\n",
       "75%     46.000000     88000.000000\n",
       "max     60.000000    150000.000000"
      ]
     },
     "execution_count": 85,
     "metadata": {},
     "output_type": "execute_result"
    }
   ],
   "source": [
    "data.describe()"
   ]
  },
  {
   "cell_type": "markdown",
   "id": "1c7e17f1",
   "metadata": {},
   "source": [
    "Nous pouvons retrouver que l'âge moyen est de 37.65 soit 38 ans et que le salaire moyen est de 69742.5 dollars."
   ]
  },
  {
   "cell_type": "markdown",
   "id": "1bafb44b",
   "metadata": {},
   "source": [
    "Faisons le de manière graphique pour chaque colonne : "
   ]
  },
  {
   "cell_type": "markdown",
   "id": "34602c2d",
   "metadata": {},
   "source": [
    "### d) La répartition des âges "
   ]
  },
  {
   "cell_type": "code",
   "execution_count": 86,
   "id": "87d7a908",
   "metadata": {},
   "outputs": [
    {
     "data": {
      "text/plain": [
       "<matplotlib.axes._subplots.AxesSubplot at 0x7f97b61746d8>"
      ]
     },
     "execution_count": 86,
     "metadata": {},
     "output_type": "execute_result"
    },
    {
     "data": {
      "image/png": "[encoded data removed]",
      "text/plain": [
       "<Figure size 432x288 with 1 Axes>"
      ]
     },
     "metadata": {
      "needs_background": "light"
     },
     "output_type": "display_data"
    }
   ],
   "source": [
    "sns.histplot(data['Age'],kde=True,color='purple',bins=30)"
   ]
  },
  {
   "cell_type": "markdown",
   "id": "3656b8d2",
   "metadata": {},
   "source": [
    "L'âge des personnes est assez hétérogène."
   ]
  },
  {
   "cell_type": "markdown",
   "id": "b7e40105",
   "metadata": {},
   "source": [
    "### e) La répartition des salaires "
   ]
  },
  {
   "cell_type": "code",
   "execution_count": 87,
   "id": "cbb016ec",
   "metadata": {},
   "outputs": [
    {
     "data": {
      "text/plain": [
       "<matplotlib.axes._subplots.AxesSubplot at 0x7f97b5cc6ef0>"
      ]
     },
     "execution_count": 87,
     "metadata": {},
     "output_type": "execute_result"
    },
    {
     "data": {
      "image/png": "[encoded data removed]",
      "text/plain": [
       "<Figure size 432x288 with 1 Axes>"
      ]
     },
     "metadata": {
      "needs_background": "light"
     },
     "output_type": "display_data"
    }
   ],
   "source": [
    "sns.histplot(data['EstimatedSalary'],kde=True,color='green',bins=30)"
   ]
  },
  {
   "cell_type": "markdown",
   "id": "8cb1aa03",
   "metadata": {},
   "source": [
    "La plupart des salaires sont inférieurs à 80000$."
   ]
  },
  {
   "cell_type": "markdown",
   "id": "93fc2aeb",
   "metadata": {},
   "source": [
    "### f) La proportion d'hommes et de femmes"
   ]
  },
  {
   "cell_type": "code",
   "execution_count": 88,
   "id": "7c706bbc",
   "metadata": {},
   "outputs": [
    {
     "data": {
      "image/png": "[encoded data removed]",
      "text/plain": [
       "<Figure size 720x504 with 1 Axes>"
      ]
     },
     "metadata": {
      "needs_background": "light"
     },
     "output_type": "display_data"
    }
   ],
   "source": [
    "plt.figure(figsize=(10, 7))\n",
    "sns.countplot(x = \"Gender\",data=data, palette=\"Dark2\")\n",
    "plt.show()"
   ]
  },
  {
   "cell_type": "markdown",
   "id": "5a22ef5d",
   "metadata": {},
   "source": [
    "Le dataset est constitué de presque autant de femmes et d'hommes."
   ]
  },
  {
   "cell_type": "markdown",
   "id": "b8e15007",
   "metadata": {},
   "source": [
    "### g) La répartition des achats ou non (Colonne \"Purchased\")"
   ]
  },
  {
   "cell_type": "code",
   "execution_count": 89,
   "id": "5717bc7b",
   "metadata": {},
   "outputs": [
    {
     "data": {
      "image/png": "[encoded data removed]",
      "text/plain": [
       "<Figure size 720x504 with 1 Axes>"
      ]
     },
     "metadata": {
      "needs_background": "light"
     },
     "output_type": "display_data"
    }
   ],
   "source": [
    "plt.figure(figsize=(10,7))\n",
    "sns.countplot(x = \"Purchased\",data=data, palette=\"Dark2\")\n",
    "plt.show()"
   ]
  },
  {
   "cell_type": "markdown",
   "id": "e818a8b4",
   "metadata": {},
   "source": [
    "Dans nos données, nous avons une représentation plus importante de personnes qui n'ont pas achetés le produit en publicité."
   ]
  },
  {
   "cell_type": "markdown",
   "id": "49b2abad",
   "metadata": {},
   "source": [
    "### h) Bonus : La répartition des personnes qui ont achetés ou non selon leur genre"
   ]
  },
  {
   "cell_type": "code",
   "execution_count": 90,
   "id": "e6dbb0b7",
   "metadata": {},
   "outputs": [
    {
     "data": {
      "text/plain": [
       "<Figure size 720x216 with 0 Axes>"
      ]
     },
     "metadata": {},
     "output_type": "display_data"
    },
    {
     "data": {
      "image/png": "[encoded data removed]",
      "text/plain": [
       "<Figure size 720x360 with 2 Axes>"
      ]
     },
     "metadata": {
      "needs_background": "light"
     },
     "output_type": "display_data"
    }
   ],
   "source": [
    "plt.figure(figsize=(10, 3))\n",
    "sns.catplot(x='Purchased', col='Gender', kind='count', data=data,palette=\"Dark2\");\n",
    "plt.show()"
   ]
  },
  {
   "cell_type": "markdown",
   "id": "af67d807",
   "metadata": {},
   "source": [
    "Le genre de la personne n'a pas l'air d'influencer l'achat du produit."
   ]
  },
  {
   "cell_type": "markdown",
   "id": "ba75fdf8",
   "metadata": {},
   "source": [
    "## 5 - Création des ensembles de données d'entraînement et de test"
   ]
  },
  {
   "cell_type": "markdown",
   "id": "34fc7c63",
   "metadata": {},
   "source": [
    "Maintenant que j'ai compris ce que contenait mes données, je vais commencer le travail préparatoire.\n",
    "Pour le modèle d'apprentissage automatisé, il faut avoit deux datasets (ensemble de données). Un pour entrainer le modèle et un pour tester le modèle. Généralement, nous prenons 80% de la donnée pour l'entrainement et 20% de la donnée pour le test.\n",
    "\n",
    "\n",
    "Nous allons séparer les données en deux ensembles de données :\n",
    "<br> **entrainement, test = train_test_split(data,test_size = 0.20,random_state=56)** \n",
    "<br><br>\n",
    "Nous allons voir la taille du dataset et voir si le dataset principal a bien été séparé : \n",
    "<br><br>**print(\"La taille de mon dataset total : \",data.size)**\n",
    "<br><br>**print(\"La taille de mon dataset d'entraînement : \", entrainement.size)**\n",
    "<br><br>**print(\"La taille de mon dataset de test : \", test.size)**\n",
    "\n"
   ]
  },
  {
   "cell_type": "code",
   "execution_count": 91,
   "id": "a19c8de0",
   "metadata": {},
   "outputs": [],
   "source": [
    "entrainement, test = train_test_split(data,test_size = 0.20,random_state=56)"
   ]
  },
  {
   "cell_type": "code",
   "execution_count": 92,
   "id": "b89fd789",
   "metadata": {},
   "outputs": [
    {
     "name": "stdout",
     "output_type": "stream",
     "text": [
      "La taille de mon dataset total :  2000\n",
      "La taille de mon dataset d'entraînement :  1600\n",
      "La taille de mon dataset de test :  400\n"
     ]
    }
   ],
   "source": [
    "print(\"La taille de mon dataset total : \",data.size)\n",
    "print(\"La taille de mon dataset d'entraînement : \", entrainement.size)\n",
    "print(\"La taille de mon dataset de test : \", test.size)"
   ]
  },
  {
   "cell_type": "markdown",
   "id": "f242aa0d",
   "metadata": {},
   "source": [
    "## 6 - Lancement de l'algorithme"
   ]
  },
  {
   "cell_type": "markdown",
   "id": "4b615f01",
   "metadata": {},
   "source": [
    "Nous allons tout d'abord spécifier la colonne target, ce que nous cherchons à estimer. Dans notre cas, il s'agit de la colonne \"Purchased\"."
   ]
  },
  {
   "cell_type": "code",
   "execution_count": 93,
   "id": "3ff0b7a0",
   "metadata": {},
   "outputs": [
    {
     "name": "stdout",
     "output_type": "stream",
     "text": [
      "Summary of class variable: \n",
      " count       320\n",
      "unique        2\n",
      "top       False\n",
      "freq        205\n",
      "Name: Purchased, dtype: object\n"
     ]
    }
   ],
   "source": [
    "label = 'Purchased'\n",
    "print(\"Summary of class variable: \\n\", entrainement[label].describe())"
   ]
  },
  {
   "cell_type": "markdown",
   "id": "2428ad54",
   "metadata": {},
   "source": [
    "Nous allons pouvoir entrainer notre modèle et le sauvegarder dans un dossier à spécifier : "
   ]
  },
  {
   "cell_type": "code",
   "execution_count": 94,
   "id": "379b24ba",
   "metadata": {},
   "outputs": [
    {
     "name": "stderr",
     "output_type": "stream",
     "text": [
      "Warning: path already exists! This predictor may overwrite an existing predictor! path=\"agModels-predictClass\"\n",
      "Warning: dtype string is not recognized as a valid dtype by numpy! AutoGluon may incorrectly handle this feature...\n",
      "Cannot interpret 'StringDtype' as a data type\n",
      "Beginning AutoGluon training ...\n",
      "AutoGluon will save models to \"agModels-predictClass/\"\n",
      "AutoGluon Version:  0.3.2b20211111\n",
      "Python Version:     3.6.13\n",
      "Operating System:   Linux\n",
      "Train Data Rows:    320\n",
      "Train Data Columns: 4\n",
      "Preprocessing data ...\n",
      "AutoGluon infers your prediction problem is: 'binary' (because only two unique label-values observed).\n",
      "\t2 unique label values:  [False, True]\n",
      "\tIf 'binary' is not the correct problem_type, please manually specify the problem_type argument in fit() (You may specify problem_type as one of: ['binary', 'multiclass', 'regression'])\n",
      "Selected class <--> label mapping:  class 1 = True, class 0 = False\n",
      "Using Feature Generators to preprocess the data ...\n",
      "Fitting AutoMLPipelineFeatureGenerator...\n",
      "Warning: dtype string is not recognized as a valid dtype by numpy! AutoGluon may incorrectly handle this feature...\n",
      "Cannot interpret 'StringDtype' as a data type\n",
      "\tAvailable Memory:                    3017.79 MB\n",
      "\tTrain Data (Original)  Memory Usage: 0.05 MB (0.0% of available memory)\n",
      "\tInferring data type of each feature based on column values. Set feature_metadata_in to manually specify special dtypes of the features.\n",
      "Warning: dtype string is not recognized as a valid dtype by numpy! AutoGluon may incorrectly handle this feature...\n",
      "Cannot interpret 'StringDtype' as a data type\n",
      "Warning: dtype string is not recognized as a valid dtype by numpy! AutoGluon may incorrectly handle this feature...\n",
      "Cannot interpret 'StringDtype' as a data type\n",
      "Warning: dtype string is not recognized as a valid dtype by numpy! AutoGluon may incorrectly handle this feature...\n",
      "Cannot interpret 'StringDtype' as a data type\n",
      "\tStage 1 Generators:\n",
      "\t\tFitting AsTypeFeatureGenerator...\n",
      "Warning: dtype string is not recognized as a valid dtype by numpy! AutoGluon may incorrectly handle this feature...\n",
      "Cannot interpret 'StringDtype' as a data type\n",
      "\t\t\tNote: Converting 1 features to boolean dtype as they only contain 2 unique values.\n",
      "Warning: dtype string is not recognized as a valid dtype by numpy! AutoGluon may incorrectly handle this feature...\n",
      "Cannot interpret 'StringDtype' as a data type\n",
      "\tStage 2 Generators:\n",
      "\t\tFitting FillNaFeatureGenerator...\n",
      "Warning: dtype string is not recognized as a valid dtype by numpy! AutoGluon may incorrectly handle this feature...\n",
      "Cannot interpret 'StringDtype' as a data type\n",
      "\tStage 3 Generators:\n",
      "\t\tFitting IdentityFeatureGenerator...\n",
      "\t\tFitting CategoryFeatureGenerator...\n",
      "\t\t\tFitting CategoryMemoryMinimizeFeatureGenerator...\n",
      "\tStage 4 Generators:\n",
      "\t\tFitting DropUniqueFeatureGenerator...\n",
      "\tUnused Original Features (Count: 1): ['UserID']\n",
      "\t\tThese features were not used to generate any of the output features. Add a feature generator compatible with these features to utilize them.\n",
      "\t\tFeatures can also be unused if they carry very little information, such as being categorical but having almost entirely unique values or being duplicates of other features.\n",
      "\t\tThese features do not need to be present at inference time.\n",
      "\t\t('object', []) : 1 | ['UserID']\n",
      "\tTypes of features in original data (raw dtype, special dtypes):\n",
      "\t\t('int', [])    : 2 | ['Age', 'EstimatedSalary']\n",
      "\t\t('object', []) : 1 | ['Gender']\n",
      "\tTypes of features in processed data (raw dtype, special dtypes):\n",
      "\t\t('int', [])       : 2 | ['Age', 'EstimatedSalary']\n",
      "\t\t('int', ['bool']) : 1 | ['Gender']\n",
      "\t0.1s = Fit runtime\n",
      "\t3 features in original data used to generate 3 features in processed data.\n",
      "\tTrain Data (Processed) Memory Usage: 0.01 MB (0.0% of available memory)\n",
      "Data preprocessing and feature engineering runtime = 0.1s ...\n",
      "AutoGluon will gauge predictive performance using evaluation metric: 'accuracy'\n",
      "\tTo change this, specify the eval_metric argument of fit()\n",
      "Automatically generating train/validation split with holdout_frac=0.2, Train Rows: 256, Val Rows: 64\n",
      "Fitting 13 L1 models ...\n",
      "Fitting model: KNeighborsUnif ...\n",
      "\t0.7656\t = Validation score   (accuracy)\n",
      "\t0.01s\t = Training   runtime\n",
      "\t0.11s\t = Validation runtime\n",
      "Fitting model: KNeighborsDist ...\n",
      "\t0.7188\t = Validation score   (accuracy)\n",
      "\t0.01s\t = Training   runtime\n",
      "\t0.1s\t = Validation runtime\n",
      "Fitting model: LightGBMXT ...\n",
      "\t0.9062\t = Validation score   (accuracy)\n",
      "\t0.29s\t = Training   runtime\n",
      "\t0.0s\t = Validation runtime\n",
      "Fitting model: LightGBM ...\n",
      "\t0.9375\t = Validation score   (accuracy)\n",
      "\t0.3s\t = Training   runtime\n",
      "\t0.0s\t = Validation runtime\n",
      "Fitting model: RandomForestGini ...\n",
      "\t0.9062\t = Validation score   (accuracy)\n",
      "\t0.65s\t = Training   runtime\n",
      "\t0.1s\t = Validation runtime\n",
      "Fitting model: RandomForestEntr ...\n",
      "\t0.9062\t = Validation score   (accuracy)\n",
      "\t0.64s\t = Training   runtime\n",
      "\t0.1s\t = Validation runtime\n",
      "Fitting model: CatBoost ...\n",
      "\t0.9062\t = Validation score   (accuracy)\n",
      "\t0.11s\t = Training   runtime\n",
      "\t0.0s\t = Validation runtime\n",
      "Fitting model: ExtraTreesGini ...\n",
      "\t0.8906\t = Validation score   (accuracy)\n",
      "\t0.65s\t = Training   runtime\n",
      "\t0.1s\t = Validation runtime\n",
      "Fitting model: ExtraTreesEntr ...\n",
      "\t0.8906\t = Validation score   (accuracy)\n",
      "\t0.64s\t = Training   runtime\n",
      "\t0.1s\t = Validation runtime\n",
      "Fitting model: NeuralNetFastAI ...\n",
      "No improvement since epoch 2: early stopping\n",
      "\t0.9219\t = Validation score   (accuracy)\n",
      "\t1.97s\t = Training   runtime\n",
      "\t0.02s\t = Validation runtime\n",
      "Fitting model: XGBoost ...\n",
      "\t0.9062\t = Validation score   (accuracy)\n",
      "\t0.09s\t = Training   runtime\n",
      "\t0.0s\t = Validation runtime\n",
      "Fitting model: NeuralNetMXNet ...\n",
      "\t0.7656\t = Validation score   (accuracy)\n",
      "\t1.21s\t = Training   runtime\n",
      "\t0.23s\t = Validation runtime\n",
      "Fitting model: LightGBMLarge ...\n",
      "\t0.9062\t = Validation score   (accuracy)\n",
      "\t0.36s\t = Training   runtime\n",
      "\t0.0s\t = Validation runtime\n",
      "Fitting model: WeightedEnsemble_L2 ...\n",
      "\t0.9375\t = Validation score   (accuracy)\n",
      "\t0.44s\t = Training   runtime\n",
      "\t0.0s\t = Validation runtime\n",
      "AutoGluon training complete, total runtime = 9.53s ...\n",
      "TabularPredictor saved. To load, use: predictor = TabularPredictor.load(\"agModels-predictClass/\")\n"
     ]
    }
   ],
   "source": [
    "save_path = 'agModels-predictClass'  # Spécifier un dossier pour créer le modèle de machine learning\n",
    "predictor = TabularPredictor(label=label, path=save_path).fit(entrainement)"
   ]
  },
  {
   "cell_type": "markdown",
   "id": "f19e0f60",
   "metadata": {},
   "source": [
    "## 7 - Testons notre algorithme d'apprentissage supervisé"
   ]
  },
  {
   "cell_type": "markdown",
   "id": "64b88c2f",
   "metadata": {},
   "source": [
    "Nous allons maintenant tester notre algorithme et mettre la valeur à prédire de côté. Nous allons créer un autre ensemble de données en enlevant cette valeur."
   ]
  },
  {
   "cell_type": "code",
   "execution_count": 95,
   "id": "f0517efd",
   "metadata": {},
   "outputs": [
    {
     "data": {
      "text/html": [
       "<div>\n",
       "<style scoped>\n",
       "    .dataframe tbody tr th:only-of-type {\n",
       "        vertical-align: middle;\n",
       "    }\n",
       "\n",
       "    .dataframe tbody tr th {\n",
       "        vertical-align: top;\n",
       "    }\n",
       "\n",
       "    .dataframe thead th {\n",
       "        text-align: right;\n",
       "    }\n",
       "</style>\n",
       "<table border=\"1\" class=\"dataframe\">\n",
       "  <thead>\n",
       "    <tr style=\"text-align: right;\">\n",
       "      <th></th>\n",
       "      <th>UserID</th>\n",
       "      <th>Gender</th>\n",
       "      <th>Age</th>\n",
       "      <th>EstimatedSalary</th>\n",
       "    </tr>\n",
       "  </thead>\n",
       "  <tbody>\n",
       "    <tr>\n",
       "      <th>79</th>\n",
       "      <td>15655123</td>\n",
       "      <td>Female</td>\n",
       "      <td>26</td>\n",
       "      <td>17000</td>\n",
       "    </tr>\n",
       "    <tr>\n",
       "      <th>112</th>\n",
       "      <td>15619653</td>\n",
       "      <td>Male</td>\n",
       "      <td>38</td>\n",
       "      <td>61000</td>\n",
       "    </tr>\n",
       "    <tr>\n",
       "      <th>164</th>\n",
       "      <td>15697574</td>\n",
       "      <td>Female</td>\n",
       "      <td>33</td>\n",
       "      <td>69000</td>\n",
       "    </tr>\n",
       "    <tr>\n",
       "      <th>185</th>\n",
       "      <td>15814816</td>\n",
       "      <td>Male</td>\n",
       "      <td>31</td>\n",
       "      <td>66000</td>\n",
       "    </tr>\n",
       "    <tr>\n",
       "      <th>180</th>\n",
       "      <td>15685576</td>\n",
       "      <td>Male</td>\n",
       "      <td>26</td>\n",
       "      <td>16000</td>\n",
       "    </tr>\n",
       "  </tbody>\n",
       "</table>\n",
       "</div>"
      ],
      "text/plain": [
       "       UserID  Gender  Age  EstimatedSalary\n",
       "79   15655123  Female   26            17000\n",
       "112  15619653    Male   38            61000\n",
       "164  15697574  Female   33            69000\n",
       "185  15814816    Male   31            66000\n",
       "180  15685576    Male   26            16000"
      ]
     },
     "execution_count": 95,
     "metadata": {},
     "output_type": "execute_result"
    }
   ],
   "source": [
    "y_test = test[label]  #Mettons la valeur à prédire de côté\n",
    "test_data_nolab = test.drop(columns=[label]) #drop = enlever\n",
    "test_data_nolab.head()"
   ]
  },
  {
   "cell_type": "markdown",
   "id": "a76e1170",
   "metadata": {},
   "source": [
    "Nous avons désormais 4 colonnes puisque nous avons enlevé la colonne \"Purchased\". Demandons maintenant au modèle d'apprentissage automatisé de nous prédire si les personnes vont achetés au non le produit de la publicité."
   ]
  },
  {
   "cell_type": "code",
   "execution_count": 96,
   "id": "3ccb39d4",
   "metadata": {},
   "outputs": [],
   "source": [
    "predictor = TabularPredictor.load(save_path)  # unnecessary, just demonstrates how to load previously-trained predictor from file\n",
    "\n",
    "y_pred = predictor.predict(test_data_nolab)"
   ]
  },
  {
   "cell_type": "markdown",
   "id": "47b0ae4f",
   "metadata": {},
   "source": [
    "Regardons plus en détail les prédictions et comparons avec les vrais résultats :"
   ]
  },
  {
   "cell_type": "code",
   "execution_count": 97,
   "id": "98b48f15",
   "metadata": {},
   "outputs": [
    {
     "name": "stderr",
     "output_type": "stream",
     "text": [
      "Evaluation: accuracy on test data: 0.875\n",
      "Evaluations on test data:\n",
      "{\n",
      "    \"accuracy\": 0.875,\n",
      "    \"balanced_accuracy\": 0.8461538461538461,\n",
      "    \"mcc\": 0.7205766921228921,\n",
      "    \"f1\": 0.8076923076923077,\n",
      "    \"precision\": 0.875,\n",
      "    \"recall\": 0.75\n",
      "}\n"
     ]
    },
    {
     "name": "stdout",
     "output_type": "stream",
     "text": [
      "Predictions:  \n",
      " 79     False\n",
      "112    False\n",
      "164    False\n",
      "185    False\n",
      "180    False\n",
      "       ...  \n",
      "71     False\n",
      "130    False\n",
      "243     True\n",
      "127    False\n",
      "44     False\n",
      "Name: Purchased, Length: 80, dtype: bool\n"
     ]
    }
   ],
   "source": [
    "print(\"Predictions:  \\n\", y_pred)\n",
    "perf = predictor.evaluate_predictions(y_true=y_test, y_pred=y_pred, auxiliary_metrics=True)"
   ]
  },
  {
   "cell_type": "markdown",
   "id": "7f495fc2",
   "metadata": {},
   "source": [
    "Notre modèle a une précision d'environ 87% (ce qui est très bien pour un modèle). "
   ]
  },
  {
   "cell_type": "markdown",
   "id": "ca37b0b1",
   "metadata": {},
   "source": [
    "## 8 - Testons pour une personne"
   ]
  },
  {
   "cell_type": "code",
   "execution_count": 102,
   "id": "ee08dc43",
   "metadata": {},
   "outputs": [],
   "source": [
    "UserID = \"86784909\" \n",
    "Gender = \"Femme\"\n",
    "Age = 60\n",
    "EstimatedSalary = 90000\n",
    "\n",
    "personne = {'UserID': [UserID], 'Gender': [Gender], 'Age': [Age],'EstimatedSalary': [EstimatedSalary]}\n",
    "personne_tab =  TabularDataset(personne)"
   ]
  },
  {
   "cell_type": "code",
   "execution_count": 103,
   "id": "d200898e",
   "metadata": {},
   "outputs": [
    {
     "data": {
      "text/plain": [
       "0    True\n",
       "Name: Purchased, dtype: bool"
      ]
     },
     "execution_count": 103,
     "metadata": {},
     "output_type": "execute_result"
    }
   ],
   "source": [
    "predictor.predict(personne_tab)"
   ]
  },
  {
   "cell_type": "markdown",
   "id": "bc8a2e40",
   "metadata": {},
   "source": [
    "### Quel algorithme a été le plus performant ?"
   ]
  },
  {
   "cell_type": "markdown",
   "id": "04c35291",
   "metadata": {},
   "source": [
    "Autogluon nous a permis de lancer plein d'algorithmes. Nous allons pouvoir voir quelques statistiques tel que la performanc,e le temps d'entraînement..."
   ]
  },
  {
   "cell_type": "code",
   "execution_count": 100,
   "id": "d9c76b02",
   "metadata": {},
   "outputs": [
    {
     "data": {
      "text/html": [
       "<div>\n",
       "<style scoped>\n",
       "    .dataframe tbody tr th:only-of-type {\n",
       "        vertical-align: middle;\n",
       "    }\n",
       "\n",
       "    .dataframe tbody tr th {\n",
       "        vertical-align: top;\n",
       "    }\n",
       "\n",
       "    .dataframe thead th {\n",
       "        text-align: right;\n",
       "    }\n",
       "</style>\n",
       "<table border=\"1\" class=\"dataframe\">\n",
       "  <thead>\n",
       "    <tr style=\"text-align: right;\">\n",
       "      <th></th>\n",
       "      <th>model</th>\n",
       "      <th>score_test</th>\n",
       "      <th>score_val</th>\n",
       "      <th>pred_time_test</th>\n",
       "      <th>pred_time_val</th>\n",
       "      <th>fit_time</th>\n",
       "      <th>pred_time_test_marginal</th>\n",
       "      <th>pred_time_val_marginal</th>\n",
       "      <th>fit_time_marginal</th>\n",
       "      <th>stack_level</th>\n",
       "      <th>can_infer</th>\n",
       "      <th>fit_order</th>\n",
       "    </tr>\n",
       "  </thead>\n",
       "  <tbody>\n",
       "    <tr>\n",
       "      <th>0</th>\n",
       "      <td>CatBoost</td>\n",
       "      <td>0.9000</td>\n",
       "      <td>0.906250</td>\n",
       "      <td>0.001991</td>\n",
       "      <td>0.001363</td>\n",
       "      <td>0.105747</td>\n",
       "      <td>0.001991</td>\n",
       "      <td>0.001363</td>\n",
       "      <td>0.105747</td>\n",
       "      <td>1</td>\n",
       "      <td>True</td>\n",
       "      <td>7</td>\n",
       "    </tr>\n",
       "    <tr>\n",
       "      <th>1</th>\n",
       "      <td>LightGBMXT</td>\n",
       "      <td>0.9000</td>\n",
       "      <td>0.906250</td>\n",
       "      <td>0.004929</td>\n",
       "      <td>0.003217</td>\n",
       "      <td>0.287560</td>\n",
       "      <td>0.004929</td>\n",
       "      <td>0.003217</td>\n",
       "      <td>0.287560</td>\n",
       "      <td>1</td>\n",
       "      <td>True</td>\n",
       "      <td>3</td>\n",
       "    </tr>\n",
       "    <tr>\n",
       "      <th>2</th>\n",
       "      <td>XGBoost</td>\n",
       "      <td>0.9000</td>\n",
       "      <td>0.906250</td>\n",
       "      <td>0.019023</td>\n",
       "      <td>0.004627</td>\n",
       "      <td>0.086817</td>\n",
       "      <td>0.019023</td>\n",
       "      <td>0.004627</td>\n",
       "      <td>0.086817</td>\n",
       "      <td>1</td>\n",
       "      <td>True</td>\n",
       "      <td>11</td>\n",
       "    </tr>\n",
       "    <tr>\n",
       "      <th>3</th>\n",
       "      <td>NeuralNetFastAI</td>\n",
       "      <td>0.9000</td>\n",
       "      <td>0.921875</td>\n",
       "      <td>0.027075</td>\n",
       "      <td>0.017164</td>\n",
       "      <td>1.972930</td>\n",
       "      <td>0.027075</td>\n",
       "      <td>0.017164</td>\n",
       "      <td>1.972930</td>\n",
       "      <td>1</td>\n",
       "      <td>True</td>\n",
       "      <td>10</td>\n",
       "    </tr>\n",
       "    <tr>\n",
       "      <th>4</th>\n",
       "      <td>ExtraTreesEntr</td>\n",
       "      <td>0.8875</td>\n",
       "      <td>0.890625</td>\n",
       "      <td>0.115443</td>\n",
       "      <td>0.102876</td>\n",
       "      <td>0.643029</td>\n",
       "      <td>0.115443</td>\n",
       "      <td>0.102876</td>\n",
       "      <td>0.643029</td>\n",
       "      <td>1</td>\n",
       "      <td>True</td>\n",
       "      <td>9</td>\n",
       "    </tr>\n",
       "    <tr>\n",
       "      <th>5</th>\n",
       "      <td>ExtraTreesGini</td>\n",
       "      <td>0.8875</td>\n",
       "      <td>0.890625</td>\n",
       "      <td>0.115758</td>\n",
       "      <td>0.102851</td>\n",
       "      <td>0.645141</td>\n",
       "      <td>0.115758</td>\n",
       "      <td>0.102851</td>\n",
       "      <td>0.645141</td>\n",
       "      <td>1</td>\n",
       "      <td>True</td>\n",
       "      <td>8</td>\n",
       "    </tr>\n",
       "    <tr>\n",
       "      <th>6</th>\n",
       "      <td>LightGBMLarge</td>\n",
       "      <td>0.8750</td>\n",
       "      <td>0.906250</td>\n",
       "      <td>0.004851</td>\n",
       "      <td>0.003281</td>\n",
       "      <td>0.358842</td>\n",
       "      <td>0.004851</td>\n",
       "      <td>0.003281</td>\n",
       "      <td>0.358842</td>\n",
       "      <td>1</td>\n",
       "      <td>True</td>\n",
       "      <td>13</td>\n",
       "    </tr>\n",
       "    <tr>\n",
       "      <th>7</th>\n",
       "      <td>LightGBM</td>\n",
       "      <td>0.8750</td>\n",
       "      <td>0.937500</td>\n",
       "      <td>0.005643</td>\n",
       "      <td>0.003216</td>\n",
       "      <td>0.295833</td>\n",
       "      <td>0.005643</td>\n",
       "      <td>0.003216</td>\n",
       "      <td>0.295833</td>\n",
       "      <td>1</td>\n",
       "      <td>True</td>\n",
       "      <td>4</td>\n",
       "    </tr>\n",
       "    <tr>\n",
       "      <th>8</th>\n",
       "      <td>WeightedEnsemble_L2</td>\n",
       "      <td>0.8750</td>\n",
       "      <td>0.937500</td>\n",
       "      <td>0.008775</td>\n",
       "      <td>0.003906</td>\n",
       "      <td>0.739433</td>\n",
       "      <td>0.003133</td>\n",
       "      <td>0.000690</td>\n",
       "      <td>0.443600</td>\n",
       "      <td>2</td>\n",
       "      <td>True</td>\n",
       "      <td>14</td>\n",
       "    </tr>\n",
       "    <tr>\n",
       "      <th>9</th>\n",
       "      <td>RandomForestGini</td>\n",
       "      <td>0.8625</td>\n",
       "      <td>0.906250</td>\n",
       "      <td>0.115008</td>\n",
       "      <td>0.102928</td>\n",
       "      <td>0.649401</td>\n",
       "      <td>0.115008</td>\n",
       "      <td>0.102928</td>\n",
       "      <td>0.649401</td>\n",
       "      <td>1</td>\n",
       "      <td>True</td>\n",
       "      <td>5</td>\n",
       "    </tr>\n",
       "    <tr>\n",
       "      <th>10</th>\n",
       "      <td>KNeighborsUnif</td>\n",
       "      <td>0.8500</td>\n",
       "      <td>0.765625</td>\n",
       "      <td>0.103772</td>\n",
       "      <td>0.110470</td>\n",
       "      <td>0.005837</td>\n",
       "      <td>0.103772</td>\n",
       "      <td>0.110470</td>\n",
       "      <td>0.005837</td>\n",
       "      <td>1</td>\n",
       "      <td>True</td>\n",
       "      <td>1</td>\n",
       "    </tr>\n",
       "    <tr>\n",
       "      <th>11</th>\n",
       "      <td>RandomForestEntr</td>\n",
       "      <td>0.8500</td>\n",
       "      <td>0.906250</td>\n",
       "      <td>0.114858</td>\n",
       "      <td>0.102891</td>\n",
       "      <td>0.642417</td>\n",
       "      <td>0.114858</td>\n",
       "      <td>0.102891</td>\n",
       "      <td>0.642417</td>\n",
       "      <td>1</td>\n",
       "      <td>True</td>\n",
       "      <td>6</td>\n",
       "    </tr>\n",
       "    <tr>\n",
       "      <th>12</th>\n",
       "      <td>KNeighborsDist</td>\n",
       "      <td>0.8000</td>\n",
       "      <td>0.718750</td>\n",
       "      <td>0.104313</td>\n",
       "      <td>0.103561</td>\n",
       "      <td>0.006661</td>\n",
       "      <td>0.104313</td>\n",
       "      <td>0.103561</td>\n",
       "      <td>0.006661</td>\n",
       "      <td>1</td>\n",
       "      <td>True</td>\n",
       "      <td>2</td>\n",
       "    </tr>\n",
       "    <tr>\n",
       "      <th>13</th>\n",
       "      <td>NeuralNetMXNet</td>\n",
       "      <td>0.7500</td>\n",
       "      <td>0.765625</td>\n",
       "      <td>0.247830</td>\n",
       "      <td>0.232583</td>\n",
       "      <td>1.207061</td>\n",
       "      <td>0.247830</td>\n",
       "      <td>0.232583</td>\n",
       "      <td>1.207061</td>\n",
       "      <td>1</td>\n",
       "      <td>True</td>\n",
       "      <td>12</td>\n",
       "    </tr>\n",
       "  </tbody>\n",
       "</table>\n",
       "</div>"
      ],
      "text/plain": [
       "                  model  score_test  score_val  pred_time_test  pred_time_val  \\\n",
       "0              CatBoost      0.9000   0.906250        0.001991       0.001363   \n",
       "1            LightGBMXT      0.9000   0.906250        0.004929       0.003217   \n",
       "2               XGBoost      0.9000   0.906250        0.019023       0.004627   \n",
       "3       NeuralNetFastAI      0.9000   0.921875        0.027075       0.017164   \n",
       "4        ExtraTreesEntr      0.8875   0.890625        0.115443       0.102876   \n",
       "5        ExtraTreesGini      0.8875   0.890625        0.115758       0.102851   \n",
       "6         LightGBMLarge      0.8750   0.906250        0.004851       0.003281   \n",
       "7              LightGBM      0.8750   0.937500        0.005643       0.003216   \n",
       "8   WeightedEnsemble_L2      0.8750   0.937500        0.008775       0.003906   \n",
       "9      RandomForestGini      0.8625   0.906250        0.115008       0.102928   \n",
       "10       KNeighborsUnif      0.8500   0.765625        0.103772       0.110470   \n",
       "11     RandomForestEntr      0.8500   0.906250        0.114858       0.102891   \n",
       "12       KNeighborsDist      0.8000   0.718750        0.104313       0.103561   \n",
       "13       NeuralNetMXNet      0.7500   0.765625        0.247830       0.232583   \n",
       "\n",
       "    fit_time  pred_time_test_marginal  pred_time_val_marginal  \\\n",
       "0   0.105747                 0.001991                0.001363   \n",
       "1   0.287560                 0.004929                0.003217   \n",
       "2   0.086817                 0.019023                0.004627   \n",
       "3   1.972930                 0.027075                0.017164   \n",
       "4   0.643029                 0.115443                0.102876   \n",
       "5   0.645141                 0.115758                0.102851   \n",
       "6   0.358842                 0.004851                0.003281   \n",
       "7   0.295833                 0.005643                0.003216   \n",
       "8   0.739433                 0.003133                0.000690   \n",
       "9   0.649401                 0.115008                0.102928   \n",
       "10  0.005837                 0.103772                0.110470   \n",
       "11  0.642417                 0.114858                0.102891   \n",
       "12  0.006661                 0.104313                0.103561   \n",
       "13  1.207061                 0.247830                0.232583   \n",
       "\n",
       "    fit_time_marginal  stack_level  can_infer  fit_order  \n",
       "0            0.105747            1       True          7  \n",
       "1            0.287560            1       True          3  \n",
       "2            0.086817            1       True         11  \n",
       "3            1.972930            1       True         10  \n",
       "4            0.643029            1       True          9  \n",
       "5            0.645141            1       True          8  \n",
       "6            0.358842            1       True         13  \n",
       "7            0.295833            1       True          4  \n",
       "8            0.443600            2       True         14  \n",
       "9            0.649401            1       True          5  \n",
       "10           0.005837            1       True          1  \n",
       "11           0.642417            1       True          6  \n",
       "12           0.006661            1       True          2  \n",
       "13           1.207061            1       True         12  "
      ]
     },
     "execution_count": 100,
     "metadata": {},
     "output_type": "execute_result"
    }
   ],
   "source": [
    "predictor.leaderboard(test, silent=True)"
   ]
  },
  {
   "cell_type": "markdown",
   "id": "28e90617",
   "metadata": {},
   "source": [
    "Ce code peut être réutilisé pour d'autres données tabulaires !"
   ]
  }
 ],
 "metadata": {
  "kernelspec": {
   "display_name": "conda_tensorflow_p36",
   "language": "python",
   "name": "conda_tensorflow_p36"
  },
  "language_info": {
   "codemirror_mode": {
    "name": "ipython",
    "version": 3
   },
   "file_extension": ".py",
   "mimetype": "text/x-python",
   "name": "python",
   "nbconvert_exporter": "python",
   "pygments_lexer": "ipython3",
   "version": "3.6.13"
  }
 },
 "nbformat": 4,
 "nbformat_minor": 5
}
